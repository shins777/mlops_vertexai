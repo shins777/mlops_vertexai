{
  "cells": [
    {
      "cell_type": "markdown",
      "metadata": {
        "id": "3WInKL6srNhf"
      },
      "source": [
        "<!-- ---\n",
        "title: Deploy Gemma 7B with TGI DLC from GCS on Vertex AI\n",
        "type: inference\n",
        "--- -->"
      ]
    },
    {
      "cell_type": "markdown",
      "metadata": {
        "id": "qPAqXsyPrNhg"
      },
      "source": [
        "# Deploy Gemma 7B with TGI DLC from GCS on Vertex AI"
      ]
    },
    {
      "cell_type": "markdown",
      "metadata": {
        "id": "GiH74fTQrNhg"
      },
      "source": [
        "Gemma is a family of lightweight, state-of-the-art open models built from the same research and technology used to create the Gemini models, developed by Google DeepMind and other teams across Google. Text Generation Inference (TGI) is a toolkit developed by Hugging Face for deploying and serving LLMs, with high performance text generation. And, Google Vertex AI is a Machine Learning (ML) platform that lets you train and deploy ML models and AI applications, and customize large language models (LLMs) for use in your AI-powered applications.\n",
        "\n",
        "This example showcases how to deploy any supported text-generation model, in this case [`google/gemma-7b-it`](https://huggingface.co/google/gemma-7b-it), downloaded from the Hugging Face Hub and uploaded to a Google Cloud Storage (GCS) Bucket, on Vertex AI using the Hugging Face DLC for TGI available in Google Cloud Platform (GCP)."
      ]
    },
    {
      "cell_type": "markdown",
      "metadata": {
        "id": "6ITrkzHqrNhi"
      },
      "source": [
        "## Setup / Configuration"
      ]
    },
    {
      "cell_type": "markdown",
      "metadata": {
        "id": "BoWO9iOHrNhi"
      },
      "source": [
        "First, you need to install `gcloud` in your local machine, which is the command-line tool for Google Cloud, following the instructions at [Cloud SDK Documentation - Install the gcloud CLI](https://cloud.google.com/sdk/docs/install)."
      ]
    },
    {
      "cell_type": "markdown",
      "metadata": {
        "id": "-7ElIreLrNhi"
      },
      "source": [
        "Then, you also need to install the `google-cloud-aiplatform` Python SDK, required to programmatically create the Vertex AI model, register it, acreate the endpoint, and deploy it on Vertex AI."
      ]
    },
    {
      "cell_type": "code",
      "execution_count": 1,
      "metadata": {
        "id": "8zUvStkFrNhi",
        "executionInfo": {
          "status": "ok",
          "timestamp": 1736084125242,
          "user_tz": -540,
          "elapsed": 5809,
          "user": {
            "displayName": "",
            "userId": ""
          }
        }
      },
      "outputs": [],
      "source": [
        "!pip install --upgrade --quiet google-cloud-aiplatform"
      ]
    },
    {
      "cell_type": "markdown",
      "metadata": {
        "id": "jXTj5hDmrNhj"
      },
      "source": [
        "Optionally, to ease the usage of the commands within this tutorial, you need to set the following environment variables for GCP:"
      ]
    },
    {
      "cell_type": "code",
      "execution_count": 6,
      "metadata": {
        "colab": {
          "base_uri": "https://localhost:8080/"
        },
        "id": "_k0ZYpYQrNhj",
        "executionInfo": {
          "status": "ok",
          "timestamp": 1736087474305,
          "user_tz": -540,
          "elapsed": 442,
          "user": {
            "displayName": "",
            "userId": ""
          }
        },
        "outputId": "ecb6b286-7aac-4336-fabf-0e3c9356e035"
      },
      "outputs": [
        {
          "output_type": "stream",
          "name": "stdout",
          "text": [
            "env: PROJECT_ID=ai-hangsik\n",
            "env: LOCATION=us-central1\n",
            "env: BUCKET_URI=gs://sllm_0110\n",
            "env: ARTIFACT_NAME=meta-llama-8b-it\n",
            "env: CONTAINER_URI=us-docker.pkg.dev/deeplearning-platform-release/gcr.io/huggingface-text-generation-inference-cu124.2-3.ubuntu2204.py311\n"
          ]
        }
      ],
      "source": [
        "%env PROJECT_ID=ai-hangsik\n",
        "%env LOCATION=us-central1\n",
        "%env BUCKET_URI=gs://sllm_0110\n",
        "%env ARTIFACT_NAME=meta-llama-8b-it\n",
        "%env CONTAINER_URI=us-docker.pkg.dev/deeplearning-platform-release/gcr.io/huggingface-text-generation-inference-cu124.2-3.ubuntu2204.py311"
      ]
    },
    {
      "cell_type": "markdown",
      "metadata": {
        "id": "IiQIUoGbrNhj"
      },
      "source": [
        "Then you need to login into your GCP account and set the project ID to the one you want to use to register and deploy the models on Vertex AI."
      ]
    },
    {
      "cell_type": "code",
      "execution_count": 3,
      "metadata": {
        "colab": {
          "base_uri": "https://localhost:8080/"
        },
        "id": "NXZQcCa4rNhj",
        "executionInfo": {
          "status": "ok",
          "timestamp": 1736084220196,
          "user_tz": -540,
          "elapsed": 48532,
          "user": {
            "displayName": "",
            "userId": ""
          }
        },
        "outputId": "34089924-14f3-4cc0-c98b-a9292efc41ac"
      },
      "outputs": [
        {
          "output_type": "stream",
          "name": "stdout",
          "text": [
            "\n",
            "You are running on a Google Compute Engine virtual machine.\n",
            "It is recommended that you use service accounts for authentication.\n",
            "\n",
            "You can run:\n",
            "\n",
            "  $ gcloud config set account `ACCOUNT`\n",
            "\n",
            "to switch accounts if necessary.\n",
            "\n",
            "Your credentials may be visible to others with access to this\n",
            "virtual machine. Are you sure you want to authenticate with\n",
            "your personal account?\n",
            "\n",
            "Do you want to continue (Y/n)?  y\n",
            "\n",
            "Go to the following link in your browser, and complete the sign-in prompts:\n",
            "\n",
            "    https://accounts.google.com/o/oauth2/auth?response_type=code&client_id=32555940559.apps.googleusercontent.com&redirect_uri=https%3A%2F%2Fsdk.cloud.google.com%2Fauthcode.html&scope=openid+https%3A%2F%2Fwww.googleapis.com%2Fauth%2Fuserinfo.email+https%3A%2F%2Fwww.googleapis.com%2Fauth%2Fcloud-platform+https%3A%2F%2Fwww.googleapis.com%2Fauth%2Fappengine.admin+https%3A%2F%2Fwww.googleapis.com%2Fauth%2Fsqlservice.login+https%3A%2F%2Fwww.googleapis.com%2Fauth%2Fcompute+https%3A%2F%2Fwww.googleapis.com%2Fauth%2Faccounts.reauth&state=epYqwBjqB13U66SBtpYcjMMPjN6hmL&prompt=consent&token_usage=remote&access_type=offline&code_challenge=TIi9sQCRPX8uNP1_9-Em2zVWFdGTqw7K0kpXJnuY8-4&code_challenge_method=S256\n",
            "\n",
            "Once finished, enter the verification code provided in your browser: 4/0AanRRrs-uELItcIqkVreRfMLbaPLM5Vr4kF1e7Rf3SP1mmqKL1QHQukjOqJqkbHpN8hMQQ\n",
            "\n",
            "You are now logged in as [hangsik@google.com].\n",
            "Your current project is [ai-hangsik].  You can change this setting by running:\n",
            "  $ gcloud config set project PROJECT_ID\n",
            "\n",
            "You are running on a Google Compute Engine virtual machine.\n",
            "The service credentials associated with this virtual machine\n",
            "will automatically be used by Application Default\n",
            "Credentials, so it is not necessary to use this command.\n",
            "\n",
            "If you decide to proceed anyway, your user credentials may be visible\n",
            "to others with access to this virtual machine. Are you sure you want\n",
            "to authenticate with your personal account?\n",
            "\n",
            "Do you want to continue (Y/n)?  y\n",
            "\n",
            "Go to the following link in your browser, and complete the sign-in prompts:\n",
            "\n",
            "    https://accounts.google.com/o/oauth2/auth?response_type=code&client_id=764086051850-6qr4p6gpi6hn506pt8ejuq83di341hur.apps.googleusercontent.com&redirect_uri=https%3A%2F%2Fsdk.cloud.google.com%2Fapplicationdefaultauthcode.html&scope=openid+https%3A%2F%2Fwww.googleapis.com%2Fauth%2Fuserinfo.email+https%3A%2F%2Fwww.googleapis.com%2Fauth%2Fcloud-platform+https%3A%2F%2Fwww.googleapis.com%2Fauth%2Fsqlservice.login&state=mYSqA8SOj5ropqW0rVZoTi9Ixw8Y47&prompt=consent&token_usage=remote&access_type=offline&code_challenge=4OjLr2DQMEEXsm2akP1MMYbbGHJHLYu3COZq8OjUzgw&code_challenge_method=S256\n",
            "\n",
            "Once finished, enter the verification code provided in your browser: 4/0AanRRrsodQ4VFP659zOtmh2OeZsCi16ucRwEuDvSPAzK_pF44qNnmbDSb05eOpy-fzFVNA\n",
            "\n",
            "Credentials saved to file: [/content/.config/application_default_credentials.json]\n",
            "\n",
            "These credentials will be used by any library that requests Application Default Credentials (ADC).\n",
            "\n",
            "Quota project \"ai-hangsik\" was added to ADC which can be used by Google client libraries for billing and quota. Note that some services may still bill the project owning the resource.\n",
            "Updated property [core/project].\n"
          ]
        }
      ],
      "source": [
        "!gcloud auth login\n",
        "!gcloud auth application-default login  # For local development\n",
        "!gcloud config set project $PROJECT_ID"
      ]
    },
    {
      "cell_type": "markdown",
      "metadata": {
        "id": "pEyYVpJJrNhj"
      },
      "source": [
        "Once you are logged in, you need to enable the necessary service APIs in GCP, such as the Vertex AI API, the Compute Engine API, and Google Container Registry related APIs."
      ]
    },
    {
      "cell_type": "code",
      "execution_count": 4,
      "metadata": {
        "id": "jC0CWOV_rNhj",
        "executionInfo": {
          "status": "ok",
          "timestamp": 1736084229198,
          "user_tz": -540,
          "elapsed": 5568,
          "user": {
            "displayName": "",
            "userId": ""
          }
        }
      },
      "outputs": [],
      "source": [
        "!gcloud services enable aiplatform.googleapis.com\n",
        "!gcloud services enable compute.googleapis.com\n",
        "!gcloud services enable container.googleapis.com\n",
        "!gcloud services enable containerregistry.googleapis.com\n",
        "!gcloud services enable containerfilesystem.googleapis.com"
      ]
    },
    {
      "cell_type": "markdown",
      "metadata": {
        "id": "3AlicUVLrNhj"
      },
      "source": [
        "### Artifact from Hugging Face Hub"
      ]
    },
    {
      "cell_type": "markdown",
      "metadata": {
        "id": "kCYw-vSUrNhk"
      },
      "source": [
        "Alternatively, you can also upload the model to the GCS Bucket from the Hugging Face Hub. As [`google/gemma-7b-it`](https://huggingface.co/google/gemma-7b-it) is a gated model, you need to login into your Hugging Face Hub account with a read-access token either fine-grained with access to the gated model, or just overall read-access to your account.\n",
        "\n",
        "More information on how to generate a read-only access token for the Hugging Face Hub in the instructions at <https://huggingface.co/docs/hub/en/security-tokens>."
      ]
    },
    {
      "cell_type": "code",
      "execution_count": 5,
      "metadata": {
        "id": "aib1MvumrNhk",
        "executionInfo": {
          "status": "ok",
          "timestamp": 1736084252324,
          "user_tz": -540,
          "elapsed": 4668,
          "user": {
            "displayName": "",
            "userId": ""
          }
        }
      },
      "outputs": [],
      "source": [
        "!pip install \"huggingface_hub[hf_transfer]\" --upgrade --quiet"
      ]
    },
    {
      "cell_type": "code",
      "execution_count": 7,
      "metadata": {
        "colab": {
          "base_uri": "https://localhost:8080/"
        },
        "id": "KDvsmoI3rNhk",
        "executionInfo": {
          "status": "ok",
          "timestamp": 1736084296079,
          "user_tz": -540,
          "elapsed": 9386,
          "user": {
            "displayName": "",
            "userId": ""
          }
        },
        "outputId": "5556e4ae-256f-49e0-ca59-982bfaeab942"
      },
      "outputs": [
        {
          "name": "stdout",
          "output_type": "stream",
          "text": [
            "\n",
            "    _|    _|  _|    _|    _|_|_|    _|_|_|  _|_|_|  _|      _|    _|_|_|      _|_|_|_|    _|_|      _|_|_|  _|_|_|_|\n",
            "    _|    _|  _|    _|  _|        _|          _|    _|_|    _|  _|            _|        _|    _|  _|        _|\n",
            "    _|_|_|_|  _|    _|  _|  _|_|  _|  _|_|    _|    _|  _|  _|  _|  _|_|      _|_|_|    _|_|_|_|  _|        _|_|_|\n",
            "    _|    _|  _|    _|  _|    _|  _|    _|    _|    _|    _|_|  _|    _|      _|        _|    _|  _|        _|\n",
            "    _|    _|    _|_|      _|_|_|    _|_|_|  _|_|_|  _|      _|    _|_|_|      _|        _|    _|    _|_|_|  _|_|_|_|\n",
            "\n",
            "Enter your token (input will not be visible): ··········\n",
            "Add token as git credential? (Y/n) y\n"
          ]
        }
      ],
      "source": [
        "from huggingface_hub import interpreter_login\n",
        "\n",
        "interpreter_login()"
      ]
    },
    {
      "cell_type": "markdown",
      "metadata": {
        "id": "t5VTv0mtrNhk"
      },
      "source": [
        "After `huggingface_hub` installation and login are completed, you can run the following bash script to download the model locally within a temporary directory, and then upload those to the GCS Bucket."
      ]
    },
    {
      "cell_type": "code",
      "source": [
        "%%bash\n",
        "\n",
        "# Parse the bucket from the provided $BUCKET_URI path i.e. given gs://bucket-name/dir, extract bucket-name\n",
        "BUCKET_NAME=$(echo $BUCKET_URI | cut -d'/' -f3)\n",
        "# Check if the bucket exists, if not create it\n",
        "if [ -z \"$(gsutil ls | grep gs://$BUCKET_NAME)\" ]; then\n",
        "    gcloud storage buckets create gs://$BUCKET_NAME --project=$PROJECT_ID --location=$LOCATION --default-storage-class=STANDARD --uniform-bucket-level-access\n",
        "fi"
      ],
      "metadata": {
        "id": "DNWDagGltqu3",
        "executionInfo": {
          "status": "ok",
          "timestamp": 1736085457304,
          "user_tz": -540,
          "elapsed": 3473,
          "user": {
            "displayName": "",
            "userId": ""
          }
        }
      },
      "execution_count": 21,
      "outputs": []
    },
    {
      "cell_type": "code",
      "execution_count": 17,
      "metadata": {
        "colab": {
          "base_uri": "https://localhost:8080/"
        },
        "id": "a39PIkaMrNhk",
        "executionInfo": {
          "status": "ok",
          "timestamp": 1736085283105,
          "user_tz": -540,
          "elapsed": 90836,
          "user": {
            "displayName": "",
            "userId": ""
          }
        },
        "outputId": "77e3a85b-15e9-4e2d-c289-c98862ed9eaa"
      },
      "outputs": [
        {
          "output_type": "stream",
          "name": "stdout",
          "text": [
            "tmp/meta-llama-8b-it\n",
            "sllm_0110\n",
            "meta-llama-8b-it\n",
            "/content/tmp/meta-llama-8b-it\n"
          ]
        },
        {
          "output_type": "stream",
          "name": "stderr",
          "text": [
            "Downloading 'LICENSE' to 'tmp/meta-llama-8b-it/.cache/huggingface/download/LICENSE.a7c3ca16cee30425ed6ad841a809590f2bcbf290.incomplete'\n",
            "Download complete. Moving file to tmp/meta-llama-8b-it/LICENSE\n",
            "Downloading 'README.md' to 'tmp/meta-llama-8b-it/.cache/huggingface/download/README.md.bbd5630a05b65c1a8b25141bd11ec44844107d58.incomplete'\n",
            "Download complete. Moving file to tmp/meta-llama-8b-it/README.md\n",
            "Downloading 'USE_POLICY.md' to 'tmp/meta-llama-8b-it/.cache/huggingface/download/USE_POLICY.md.81ebb55902285e8dd5804ccf423d17ffb2a622ee.incomplete'\n",
            "Download complete. Moving file to tmp/meta-llama-8b-it/USE_POLICY.md\n",
            "Downloading 'generation_config.json' to 'tmp/meta-llama-8b-it/.cache/huggingface/download/generation_config.json.cc7276afd599de091142c6ed3005faf8a74aa257.incomplete'\n",
            "Download complete. Moving file to tmp/meta-llama-8b-it/generation_config.json\n",
            "Downloading 'original/params.json' to 'tmp/meta-llama-8b-it/.cache/huggingface/download/original/params.json.f1131204e79d0c09d2bac93f11569a8a655d68ba.incomplete'\n",
            "Download complete. Moving file to tmp/meta-llama-8b-it/original/params.json\n",
            "Downloading 'original/tokenizer.model' to 'tmp/meta-llama-8b-it/.cache/huggingface/download/original/tokenizer.model.82e9d31979e92ab929cd544440f129d9ecd797b69e327f80f17e1c50d5551b55.incomplete'\n",
            "Download complete. Moving file to tmp/meta-llama-8b-it/original/tokenizer.model\n"
          ]
        }
      ],
      "source": [
        "%%bash\n",
        "# Ensure the necessary environment variables are set\n",
        "export HF_HUB_ENABLE_HF_TRANSFER=1\n",
        "\n",
        "# # Create a local directory to store the downloaded models\n",
        "LOCAL_DIR=\"tmp/meta-llama-8b-it\"\n",
        "mkdir -p $LOCAL_DIR\n",
        "\n",
        "echo $LOCAL_DIR\n",
        "echo $BUCKET_URI\n",
        "echo $ARTIFACT_NAME\n",
        "\n",
        "# # Download models from HuggingFace, excluding certain file types\n",
        "huggingface-cli download meta-llama/Llama-3.1-8B-Instruct --exclude \"*.bin\" \"*.pth\" \"*.gguf\" \".gitattributes\" --local-dir $LOCAL_DIR\n"
      ]
    },
    {
      "cell_type": "code",
      "source": [
        "%%bash\n",
        "echo $LOCAL_DIR\n",
        "echo $BUCKET_URI\n",
        "echo $ARTIFACT_NAME\n",
        "\n",
        "# Upload the downloaded models to Google Cloud Storage\n",
        "gsutil -o GSUtil:parallel_composite_upload_threshold=150M -m cp -e -r $LOCAL_DIR/* $BUCKET_URI/$ARTIFACT_NAME\n",
        "\n",
        "# Remove all files and hidden files in the target directory\n",
        "# rm -rf tmp/\n",
        "\n"
      ],
      "metadata": {
        "colab": {
          "base_uri": "https://localhost:8080/"
        },
        "id": "vT5vODxHu98E",
        "executionInfo": {
          "status": "ok",
          "timestamp": 1736086562127,
          "user_tz": -540,
          "elapsed": 1084948,
          "user": {
            "displayName": "",
            "userId": ""
          }
        },
        "outputId": "609c7baa-31b1-4c07-b479-431cb37df9d8"
      },
      "execution_count": 22,
      "outputs": [
        {
          "output_type": "stream",
          "name": "stdout",
          "text": [
            "Process is terminated.\n"
          ]
        }
      ]
    },
    {
      "cell_type": "markdown",
      "metadata": {
        "id": "DfGB6iTrrNhk"
      },
      "source": [
        "To see the end to end script, please check [`./scripts/upload_model_to_gcs.sh`](https://github.com/huggingface/Google-Cloud-Containers/blob/main/scripts/upload_model_to_gcs.sh) within the root directory of this repository."
      ]
    },
    {
      "cell_type": "markdown",
      "metadata": {
        "id": "x_l70_dCrNhk"
      },
      "source": [
        "## Register model on Vertex AI"
      ]
    },
    {
      "cell_type": "markdown",
      "metadata": {
        "id": "jb1jzliErNhk"
      },
      "source": [
        "Once everything is set up, you can already initialize the Vertex AI session via the `google-cloud-aiplatform` Python SDK as follows:"
      ]
    },
    {
      "cell_type": "code",
      "execution_count": 25,
      "metadata": {
        "id": "OIpqvWUIrNhk",
        "executionInfo": {
          "status": "ok",
          "timestamp": 1736086632672,
          "user_tz": -540,
          "elapsed": 429,
          "user": {
            "displayName": "",
            "userId": ""
          }
        }
      },
      "outputs": [],
      "source": [
        "import os\n",
        "from google.cloud import aiplatform\n",
        "\n",
        "aiplatform.init(\n",
        "    project=os.getenv(\"PROJECT_ID\"),\n",
        "    location=os.getenv(\"LOCATION\"),\n",
        "    staging_bucket=os.getenv(\"BUCKET_URI\"),\n",
        ")"
      ]
    },
    {
      "cell_type": "markdown",
      "metadata": {
        "id": "jMNfNJ4DrNhk"
      },
      "source": [
        "Then you can already \"upload\" the model i.e. register the model on Vertex AI. It is not an upload per se, since the model will be automatically downloaded from the GCS Bucket URI on startup, so what is uploaded is only the configuration, not the model weights.\n",
        "\n",
        "Before going into the code, let's quickly review the arguments provided to the `upload` method:\n",
        "\n",
        "* **`display_name`** is the name that will be shown in the Vertex AI Model Registry.\n",
        "\n",
        "* **`artifact_uri`** is the path to the directory with the artifact within the GCS Bucket.\n",
        "\n",
        "* **`serving_container_image_uri`** is the location of the Hugging Face DLC for TGI that will be used for serving the model.\n",
        "\n",
        "* **`serving_container_environment_variables`** are the environment variables that will be used during the container runtime, so these are aligned with the environment variables defined by `text-generation-inference`, which are analog to the [`text-generation-launcher` arguments](https://huggingface.co/docs/text-generation-inference/en/basic_tutorials/launcher). Additionally, the Hugging Face DLCs for TGI also capture the `AIP_` environment variables from Vertex AI as in [Vertex AI Documentation - Custom container requirements for prediction](https://cloud.google.com/vertex-ai/docs/predictions/custom-container-requirements).\n",
        "\n",
        "    * `NUM_SHARD` is the number of shards to use if you don't want to use all GPUs on a given machine e.g. if you have two GPUs but you just want to use one for TGI then `NUM_SHARD=1`, otherwise it matches the `CUDA_VISIBLE_DEVICES`.\n",
        "    * `MAX_INPUT_TOKENS` is the maximum allowed input length (expressed in number of tokens), the larger it is, the larger the prompt can be, but also more memory will be consumed.\n",
        "    * `MAX_TOTAL_TOKENS` is the most important value to set as it defines the \"memory budget\" of running clients requests, the larger this value, the larger amount each request will be in your RAM and the less effective batching can be.\n",
        "    * `MAX_BATCH_PREFILL_TOKENS` limits the number of tokens for the prefill operation, as it takes the most memory and is compute bound, it is interesting to limit the number of requests that can be sent.\n",
        "    * `HUGGING_FACE_HUB_TOKEN` is the Hugging Face Hub token, required as [`google/gemma-7b-it`](https://huggingface.co/google/gemma-7b-it) is a gated model.\n",
        "\n",
        "* (optional) **`serving_container_ports`** is the port where the Vertex AI endpoint will be exposed, by default 8080.\n",
        "\n",
        "For more information on the supported `aiplatform.Model.upload` arguments, check its Python reference at https://cloud.google.com/python/docs/reference/aiplatform/latest/google.cloud.aiplatform.Model#google_cloud_aiplatform_Model_upload.\n",
        "\n"
      ]
    },
    {
      "cell_type": "markdown",
      "metadata": {
        "id": "PySNw2cmrNhk"
      },
      "source": [
        "> [!NOTE]\n",
        "> Starting from TGI 2.3 DLC i.e. `us-docker.pkg.dev/deeplearning-platform-release/gcr.io/huggingface-text-generation-inference-cu124.2-3.ubuntu2204.py311`, and onwards, you can set the environment variable value `MESSAGES_API_ENABLED=\"true\"` to deploy the [Messages API](https://huggingface.co/docs/text-generation-inference/main/en/messages_api) on Vertex AI, otherwise, the [Generate API](https://huggingface.co/docs/text-generation-inference/main/en/quicktour#consuming-tgi) will be deployed instead."
      ]
    },
    {
      "cell_type": "code",
      "execution_count": 27,
      "metadata": {
        "colab": {
          "base_uri": "https://localhost:8080/"
        },
        "id": "Kqf0FT5rrNhk",
        "executionInfo": {
          "status": "ok",
          "timestamp": 1736086654916,
          "user_tz": -540,
          "elapsed": 10183,
          "user": {
            "displayName": "",
            "userId": ""
          }
        },
        "outputId": "e0cbf0f7-27ce-4666-e507-06fcca4b95a4"
      },
      "outputs": [
        {
          "output_type": "stream",
          "name": "stderr",
          "text": [
            "INFO:google.cloud.aiplatform.models:Creating Model\n",
            "INFO:google.cloud.aiplatform.models:Create Model backing LRO: projects/721521243942/locations/us-central1/models/778758797186301952/operations/8241579518427398144\n",
            "INFO:google.cloud.aiplatform.models:Model created. Resource name: projects/721521243942/locations/us-central1/models/778758797186301952@1\n",
            "INFO:google.cloud.aiplatform.models:To use this Model in another session:\n",
            "INFO:google.cloud.aiplatform.models:model = aiplatform.Model('projects/721521243942/locations/us-central1/models/778758797186301952@1')\n"
          ]
        }
      ],
      "source": [
        "model = aiplatform.Model.upload(\n",
        "    display_name=\"meta-llama-8b-it\",\n",
        "\n",
        "    artifact_uri=\"gs://sllm_0103/llama3.1_8b_inst\",\n",
        "    #artifact_uri=f\"{os.getenv('BUCKET_URI')}/{os.getenv('ARTIFACT_NAME')}\",\n",
        "    serving_container_image_uri=os.getenv(\"CONTAINER_URI\"),\n",
        "    serving_container_environment_variables={\n",
        "        \"NUM_SHARD\": \"1\",\n",
        "        \"MAX_INPUT_TOKENS\": \"512\",\n",
        "        \"MAX_TOTAL_TOKENS\": \"1024\",\n",
        "        \"MAX_BATCH_PREFILL_TOKENS\": \"1512\",\n",
        "    },\n",
        "    serving_container_ports=[8080],\n",
        ")\n",
        "model.wait()"
      ]
    },
    {
      "cell_type": "markdown",
      "metadata": {
        "id": "4sKawlmqrNhn"
      },
      "source": [
        "## Deploy model on Vertex AI"
      ]
    },
    {
      "cell_type": "markdown",
      "metadata": {
        "id": "XqEuDLTKrNhn"
      },
      "source": [
        "After the model is registered on Vertex AI, you need to define the endpoint that you want to deploy the model to, and then link the model deployment to that endpoint resource.\n",
        "\n",
        "To do so, you need to call the method `aiplatform.Endpoint.create` to create a new Vertex AI endpoint resource (which is not linked to a model or anything usable yet)."
      ]
    },
    {
      "cell_type": "code",
      "execution_count": 28,
      "metadata": {
        "colab": {
          "base_uri": "https://localhost:8080/"
        },
        "id": "MglJoe3rrNho",
        "executionInfo": {
          "status": "ok",
          "timestamp": 1736086656294,
          "user_tz": -540,
          "elapsed": 1388,
          "user": {
            "displayName": "",
            "userId": ""
          }
        },
        "outputId": "7fdd1829-d615-4892-ea5e-9d477a38bc80"
      },
      "outputs": [
        {
          "output_type": "stream",
          "name": "stderr",
          "text": [
            "INFO:google.cloud.aiplatform.models:Creating Endpoint\n",
            "INFO:google.cloud.aiplatform.models:Create Endpoint backing LRO: projects/721521243942/locations/us-central1/endpoints/1344017725025943552/operations/1396108084824244224\n",
            "INFO:google.cloud.aiplatform.models:Endpoint created. Resource name: projects/721521243942/locations/us-central1/endpoints/1344017725025943552\n",
            "INFO:google.cloud.aiplatform.models:To use this Endpoint in another session:\n",
            "INFO:google.cloud.aiplatform.models:endpoint = aiplatform.Endpoint('projects/721521243942/locations/us-central1/endpoints/1344017725025943552')\n"
          ]
        }
      ],
      "source": [
        "endpoint = aiplatform.Endpoint.create(display_name=\"meta-llama-8b-it-endpoint\")"
      ]
    },
    {
      "cell_type": "markdown",
      "metadata": {
        "id": "Bt7byEmyrNho"
      },
      "source": [
        "Now you can deploy the registered model in an endpoint on Vertex AI.\n",
        "\n",
        "The `deploy` method will link the previously created endpoint resource with the model that contains the configuration of the serving container, and then, it will deploy the model on Vertex AI in the specified instance.\n",
        "\n",
        "Before going into the code, let's quicklyl review the arguments provided to the `deploy` method:\n",
        "\n",
        "- **`endpoint`** is the endpoint to deploy the model to, which is optional, and by default will be set to the model display name with the `_endpoint` suffix.\n",
        "- **`machine_type`**, **`accelerator_type`** and **`accelerator_count`** are arguments that define which instance to use, and additionally, the accelerator to use and the number of accelerators, respectively. The `machine_type` and the `accelerator_type` are tied together, so you will need to select an instance that supports the accelerator that you are using and vice-versa. More information about the different instances at [Compute Engine Documentation - GPU machine types](https://cloud.google.com/compute/docs/gpus), and about the `accelerator_type` naming at [Vertex AI Documentation - MachineSpec](https://cloud.google.com/vertex-ai/docs/reference/rest/v1/MachineSpec).\n",
        "\n",
        "For more information on the supported `aiplatform.Model.deploy` arguments, you can check its Python reference at https://cloud.google.com/python/docs/reference/aiplatform/latest/google.cloud.aiplatform.Model#google_cloud_aiplatform_Model_deploy."
      ]
    },
    {
      "cell_type": "code",
      "execution_count": 29,
      "metadata": {
        "colab": {
          "base_uri": "https://localhost:8080/"
        },
        "id": "733jmfnIrNho",
        "executionInfo": {
          "status": "ok",
          "timestamp": 1736087262924,
          "user_tz": -540,
          "elapsed": 560454,
          "user": {
            "displayName": "",
            "userId": ""
          }
        },
        "outputId": "953d4601-30cd-449d-c27a-67b9ebeabd8c"
      },
      "outputs": [
        {
          "output_type": "stream",
          "name": "stderr",
          "text": [
            "INFO:google.cloud.aiplatform.models:Deploying model to Endpoint : projects/721521243942/locations/us-central1/endpoints/1344017725025943552\n",
            "INFO:google.cloud.aiplatform.models:Deploy Endpoint model backing LRO: projects/721521243942/locations/us-central1/endpoints/1344017725025943552/operations/4999000980860174336\n",
            "INFO:google.cloud.aiplatform.models:Endpoint model deployed. Resource name: projects/721521243942/locations/us-central1/endpoints/1344017725025943552\n"
          ]
        }
      ],
      "source": [
        "deployed_model = model.deploy(\n",
        "    endpoint=endpoint,\n",
        "    machine_type=\"g2-standard-4\",\n",
        "    accelerator_type=\"NVIDIA_L4\",\n",
        "    accelerator_count=1,\n",
        ")"
      ]
    },
    {
      "cell_type": "markdown",
      "metadata": {
        "id": "t61PSIOJrNho"
      },
      "source": [
        "**WARNING**: _The Vertex AI endpoint deployment via the `deploy` method may take from 15 to 25 minutes._"
      ]
    },
    {
      "cell_type": "markdown",
      "metadata": {
        "id": "_OkEx5iWrNho"
      },
      "source": [
        "## Online predictions on Vertex AI"
      ]
    },
    {
      "cell_type": "markdown",
      "metadata": {
        "id": "gyxHIDbIrNho"
      },
      "source": [
        "Finally, you can run the online predictions on Vertex AI using the `predict` method, which will send the requests to the running endpoint in the `/predict` route specified within the container following Vertex AI I/O payload formatting.\n",
        "\n",
        "As you are serving a `text-generation` model, you will need to make sure that the chat template, if any, is applied correctly to the input conversation; meaning that `transformers` need to be installed so as to instantiate the `tokenizer` for [`google/gemma-7b-it`](https://huggingface.co/google/gemma-7b-it) and run the `apply_chat_template` method over the input conversation before sending the input within the payload to the Vertex AI endpoint."
      ]
    },
    {
      "cell_type": "code",
      "execution_count": 2,
      "metadata": {
        "id": "mjzSBG-yrNho",
        "executionInfo": {
          "status": "ok",
          "timestamp": 1736087407200,
          "user_tz": -540,
          "elapsed": 9650,
          "user": {
            "displayName": "",
            "userId": ""
          }
        }
      },
      "outputs": [],
      "source": [
        "%pip install --upgrade --quiet transformers"
      ]
    },
    {
      "cell_type": "markdown",
      "metadata": {
        "id": "WZ3yj4lurNho"
      },
      "source": [
        "After the installation is complete, the following snippet will apply the chat template to the conversation:"
      ]
    },
    {
      "cell_type": "code",
      "execution_count": 3,
      "metadata": {
        "id": "434NfZ-GrNho",
        "executionInfo": {
          "status": "ok",
          "timestamp": 1736087420819,
          "user_tz": -540,
          "elapsed": 12270,
          "user": {
            "displayName": "",
            "userId": ""
          }
        }
      },
      "outputs": [],
      "source": [
        "from huggingface_hub import get_token\n",
        "from transformers import AutoTokenizer\n",
        "\n",
        "tokenizer = AutoTokenizer.from_pretrained(\"meta-llama/Llama-3.1-8B-Instruct\", token=get_token())\n",
        "\n"
      ]
    },
    {
      "cell_type": "markdown",
      "metadata": {
        "id": "mgvtciUzrNho"
      },
      "source": [
        "Which is what you will be sending within the payload to the deployed Vertex AI Endpoint, as well as the generation parameters as in <https://huggingface.co/docs/huggingface_hub/main/en/package_reference/inference_client#huggingface_hub.InferenceClient.text_generation>."
      ]
    },
    {
      "cell_type": "markdown",
      "metadata": {
        "id": "DjNqWxNTrNho"
      },
      "source": [
        "### Via Python"
      ]
    },
    {
      "cell_type": "markdown",
      "metadata": {
        "id": "AzE7HQQIrNho"
      },
      "source": [
        "#### Within the same session"
      ]
    },
    {
      "cell_type": "markdown",
      "metadata": {
        "id": "J5kcRuhrrNho"
      },
      "source": [
        "If you are willing to run the online prediction within the current session, you can send requests programmatically via the `aiplatform.Endpoint` (returned by the `aiplatform.Model.deploy` method) as in the following snippet:"
      ]
    },
    {
      "cell_type": "code",
      "execution_count": null,
      "metadata": {
        "id": "Q2TZcFRNrNho"
      },
      "outputs": [],
      "source": [
        "messages = [\n",
        "    {\"role\": \"user\", \"content\": \"What's Deep Learning?\"},\n",
        "]\n",
        "\n",
        "inputs = tokenizer.apply_chat_template(\n",
        "    messages,\n",
        "    tokenize=False,\n",
        "    add_generation_prompt=True,\n",
        ")\n",
        "# <bos><start_of_turn>user\\nWhat's Deep Learning?<end_of_turn>\\n<start_of_turn>model\\n\n",
        "\n",
        "output = deployed_model.predict(\n",
        "    instances=[\n",
        "        {\n",
        "            \"inputs\": \"<bos><start_of_turn>user\\nWhat's Deep Learning?<end_of_turn>\\n<start_of_turn>model\\n\",\n",
        "            \"parameters\": {\n",
        "                \"max_new_tokens\": 256, \"do_sample\": True,\n",
        "                \"top_p\": 0.95, \"temperature\": 1.0,\n",
        "            },\n",
        "        },\n",
        "    ]\n",
        ")\n",
        "print(output.predictions[0])"
      ]
    },
    {
      "cell_type": "markdown",
      "metadata": {
        "id": "aPQh6sh-rNho"
      },
      "source": [
        "Producing the following `output`:\n",
        "\n",
        "```\n",
        "Prediction(predictions=['\\n\\nDeep learning is a type of machine learning that uses artificial neural networks to learn from large amounts of data, making it a powerful tool for various tasks, including image recognition, natural language processing, and speech recognition.\\n\\n**Key Concepts:**\\n\\n* **Artificial Neural Networks (ANNs):** Structures that mimic the interconnected neurons in the brain.\\n* **Deep Learning Architectures:** Multi-layered ANNs that learn hierarchical features from data.\\n* **Transfer Learning:** Reusing learned features from one task to improve performance on another.\\n\\n**Types of Deep Learning:**\\n\\n* **Supervised Learning:** Models are trained on labeled data, where inputs are paired with corresponding outputs.\\n* **Unsupervised Learning:** Models learn patterns from unlabeled data, such as clustering or dimensionality reduction.\\n* **Reinforcement Learning:** Models learn through trial-and-error by interacting with an environment to optimize a task.\\n\\n**Benefits:**\\n\\n* **High Accuracy:** Deep learning models can achieve high accuracy on complex tasks.\\n* **Adaptability:** Deep learning models can adapt to new data and tasks.\\n* **Scalability:** Deep learning models can handle large amounts of data.\\n\\n**Applications:**\\n\\n* Image recognition\\n* Natural language processing (NLP)\\n'], deployed_model_id='***', metadata=None, model_version_id='1', model_resource_name='projects/***/locations/us-central1/models/***', explanations=None)\n",
        "```"
      ]
    },
    {
      "cell_type": "markdown",
      "metadata": {
        "id": "5eYSM4AirNho"
      },
      "source": [
        "#### From a different session"
      ]
    },
    {
      "cell_type": "markdown",
      "metadata": {
        "id": "iHXgg8rdrNho"
      },
      "source": [
        "If the Vertex AI Endpoint was deployed in a different session and you want to use it but don't have access to the `deployed_model` variable returned by the `aiplatform.Model.deploy` method as in the previous section; you can also run the following snippet to instantiate the deployed `aiplatform.Endpoint` via its resource name as `projects/{PROJECT_ID}/locations/{LOCATION}/endpoints/{ENDPOINT_ID}`.\n",
        "\n",
        "> [!NOTE]\n",
        "> You will need to either retrieve the resource name i.e. the `projects/{PROJECT_ID}/locations/{LOCATION}/endpoints/{ENDPOINT_ID}` URL yourself via the Google Cloud Console, or just replace the `ENDPOINT_ID` below that can either be found via the previously instantiated `endpoint` as `endpoint.id` or via the Google Cloud Console under the Online predictions where the endpoint is listed."
      ]
    },
    {
      "cell_type": "code",
      "execution_count": 7,
      "metadata": {
        "colab": {
          "base_uri": "https://localhost:8080/"
        },
        "id": "qKAmmD9UrNho",
        "executionInfo": {
          "status": "ok",
          "timestamp": 1736087491987,
          "user_tz": -540,
          "elapsed": 8844,
          "user": {
            "displayName": "",
            "userId": ""
          }
        },
        "outputId": "cddfbc25-1894-4161-a335-8d8499c08499"
      },
      "outputs": [
        {
          "output_type": "stream",
          "name": "stdout",
          "text": [
            "Deep Learning is a subfield of machine learning that uses neural networks with multiple layers to analyze data. These neural networks are modeled after the structure and function of the human brain, where the data is processed in a hierarchical manner. Each layer of the neural network learns to represent the data in a more abstract and meaningful way, allowing the network to capture complex patterns and relationships in the data. This makes Deep Learning particularly well-suited for tasks such as image and speech recognition, natural language processing, and decision-making. Some common applications of Deep Learning include computer vision, natural language processing, and predictive modeling. <end_of_turn>\n",
            "<start_of\n"
          ]
        }
      ],
      "source": [
        "import os\n",
        "from google.cloud import aiplatform\n",
        "\n",
        "aiplatform.init(project=os.getenv(\"PROJECT_ID\"), location=os.getenv(\"LOCATION\"))\n",
        "\n",
        "endpoint_display_name = \"meta-llama-8b-it-endpoint\"  # TODO: change to your endpoint display name\n",
        "\n",
        "# Iterates over all the Vertex AI Endpoints within the current project and keeps the first match (if any), otherwise set to None\n",
        "ENDPOINT_ID = next(\n",
        "    (endpoint.name for endpoint in aiplatform.Endpoint.list()\n",
        "     if endpoint.display_name == endpoint_display_name),\n",
        "    None\n",
        ")\n",
        "assert ENDPOINT_ID, (\n",
        "    \"`ENDPOINT_ID` is not set, please make sure that the `endpoint_display_name` is correct at \"\\\n",
        "    f\"https://console.cloud.google.com/vertex-ai/online-prediction/endpoints?project={os.getenv('PROJECT_ID')}\"\n",
        ")\n",
        "\n",
        "endpoint = aiplatform.Endpoint(f\"projects/{os.getenv('PROJECT_ID')}/locations/{os.getenv('LOCATION')}/endpoints/{ENDPOINT_ID}\")\n",
        "output = endpoint.predict(\n",
        "    instances=[\n",
        "        {\n",
        "            \"inputs\": \"<bos><start_of_turn>user\\nWhat's Deep Learning?<end_of_turn>\\n<start_of_turn>model\\n\",\n",
        "            \"parameters\": {\n",
        "                \"max_new_tokens\": 128,\n",
        "                \"do_sample\": True,\n",
        "                \"top_p\": 0.95,\n",
        "                \"temperature\": 0.7,\n",
        "            },\n",
        "        },\n",
        "    ],\n",
        ")\n",
        "print(output.predictions[0])"
      ]
    },
    {
      "cell_type": "markdown",
      "metadata": {
        "id": "fwkj6WQ7rNhp"
      },
      "source": [
        "### Via the Vertex AI Online Prediction UI"
      ]
    },
    {
      "cell_type": "markdown",
      "metadata": {
        "id": "pi23gyn9rNhp"
      },
      "source": [
        "Alternatively, for testing purposes you can also use the Vertex AI Online Prediction UI, that provides a field that expects the JSON payload formatted according to the Vertex AI specification (as in the examples above) being:\n",
        "\n",
        "```json\n",
        "{\n",
        "    \"instances\": [\n",
        "        {\n",
        "            \"inputs\": \"<bos><start_of_turn>user\\nWhat's Deep Learning?<end_of_turn>\\n<start_of_turn>model\\n\",\n",
        "            \"parameters\": {\n",
        "                \"max_new_tokens\": 128,\n",
        "                \"do_sample\": true,\n",
        "                \"top_p\": 0.95,\n",
        "                \"temperature\": 0.7\n",
        "            }\n",
        "        }\n",
        "    ]\n",
        "}\n",
        "```"
      ]
    },
    {
      "cell_type": "markdown",
      "metadata": {
        "id": "Z3fwHua1rNhp"
      },
      "source": [
        "![Vertex AI Endpoint online inference](./assets/vertex-ai-online-prediction.png)"
      ]
    },
    {
      "cell_type": "markdown",
      "metadata": {
        "id": "T2Cus6gKrNhp"
      },
      "source": [
        "## Resource clean-up"
      ]
    },
    {
      "cell_type": "markdown",
      "metadata": {
        "id": "a2K1deFQrNhp"
      },
      "source": [
        "Finally, you can already release the resources that you've created as follows, to avoid unnecessary costs:\n",
        "\n",
        "* `deployed_model.undeploy_all` to undeploy the model from all the endpoints.\n",
        "* `deployed_model.delete` to delete the endpoint/s where the model was deployed gracefully, after the `undeploy_all` method.\n",
        "* `model.delete` to delete the model from the registry.\n",
        "\n",
        "> [!NOTE]\n",
        "> When deleting the model from Vertex AI, as it's stored within a GCS Bucket, neither the bucket nor its contents will be removed when removing the model from Vertex AI."
      ]
    },
    {
      "cell_type": "code",
      "execution_count": null,
      "metadata": {
        "id": "XXvQx2yWrNhp"
      },
      "outputs": [],
      "source": [
        "deployed_model.undeploy_all()\n",
        "deployed_model.delete()\n",
        "model.delete()"
      ]
    },
    {
      "cell_type": "markdown",
      "metadata": {
        "id": "BsOSu0WtrNhp"
      },
      "source": [
        "Alternatively, you can also remove those from the Google Cloud Console following the steps:\n",
        "\n",
        "* Go to Vertex AI in Google Cloud\n",
        "* Go to Deploy and use -> Online prediction\n",
        "* Click on the endpoint and then on the deployed model/s to \"Undeploy model from endpoint\"\n",
        "* Then go back to the endpoint list and remove the endpoint\n",
        "* Finally, go to Deploy and use -> Model Registry, and remove the model"
      ]
    },
    {
      "cell_type": "markdown",
      "metadata": {
        "id": "O1yYHVgXrNhp"
      },
      "source": [
        "Additionally, you may also want to remove the GCS Bucket, to do so, you can use the following `gcloud` command:"
      ]
    },
    {
      "cell_type": "code",
      "execution_count": null,
      "metadata": {
        "id": "t4ByjcOjrNhp"
      },
      "outputs": [],
      "source": [
        "!gcloud storage rm -r $BUCKET_URI"
      ]
    },
    {
      "cell_type": "markdown",
      "metadata": {
        "id": "EhujVRilrNhp"
      },
      "source": [
        "Or, alternatively, just remove the bucket and/or its contents from the Google Cloud Console."
      ]
    }
  ],
  "metadata": {
    "kernelspec": {
      "display_name": "Python 3 (ipykernel)",
      "language": "python",
      "name": "python3"
    },
    "language_info": {
      "codemirror_mode": {
        "name": "ipython",
        "version": 3
      },
      "file_extension": ".py",
      "mimetype": "text/x-python",
      "name": "python",
      "nbconvert_exporter": "python",
      "pygments_lexer": "ipython3",
      "version": "3.10.14"
    },
    "colab": {
      "provenance": []
    }
  },
  "nbformat": 4,
  "nbformat_minor": 0
}