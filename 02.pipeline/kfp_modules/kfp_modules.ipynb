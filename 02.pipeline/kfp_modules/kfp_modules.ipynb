{
 "cells": [
  {
   "cell_type": "code",
   "execution_count": null,
   "id": "9007dc29-5d01-4ebd-b143-35b150bdfb41",
   "metadata": {},
   "outputs": [],
   "source": [
    "# Copyright 2024 Forusone\n",
    "#\n",
    "# Licensed under the Apache License, Version 2.0 (the \"License\");\n",
    "# you may not use this file except in compliance with the License.\n",
    "# You may obtain a copy of the License at\n",
    "#\n",
    "#     https://www.apache.org/licenses/LICENSE-2.0\n",
    "#\n",
    "# Unless required by applicable law or agreed to in writing, software\n",
    "# distributed under the License is distributed on an \"AS IS\" BASIS,\n",
    "# WITHOUT WARRANTIES OR CONDITIONS OF ANY KIND, either express or implied.\n",
    "# See the License for the specific language governing permissions and\n",
    "# limitations under the License. "
   ]
  },
  {
   "cell_type": "markdown",
   "id": "7e15422b-ea7f-4697-8d55-ed001a5c0903",
   "metadata": {},
   "source": [
    "## KFP modularization"
   ]
  },
  {
   "cell_type": "code",
   "execution_count": 1,
   "id": "d0e22f1a-09d6-4c3e-aa2b-bd84fc681750",
   "metadata": {
    "tags": []
   },
   "outputs": [
    {
     "name": "stdout",
     "output_type": "stream",
     "text": [
      "\n",
      "\u001b[1m[\u001b[0m\u001b[34;49mnotice\u001b[0m\u001b[1;39;49m]\u001b[0m\u001b[39;49m A new release of pip is available: \u001b[0m\u001b[31;49m25.0\u001b[0m\u001b[39;49m -> \u001b[0m\u001b[32;49m25.0.1\u001b[0m\n",
      "\u001b[1m[\u001b[0m\u001b[34;49mnotice\u001b[0m\u001b[1;39;49m]\u001b[0m\u001b[39;49m To update, run: \u001b[0m\u001b[32;49mpip install --upgrade pip\u001b[0m\n",
      "Note: you may need to restart the kernel to use updated packages.\n"
     ]
    }
   ],
   "source": [
    "# Install the packages\n",
    "%pip install --user --quiet google-cloud-aiplatform \\\n",
    "                         google-cloud-storage \\\n",
    "                         google-cloud-pipeline-components \\\n",
    "                         kfp"
   ]
  },
  {
   "cell_type": "code",
   "execution_count": 2,
   "id": "f70ea789-440f-4529-8590-49d1453db63e",
   "metadata": {
    "tags": []
   },
   "outputs": [
    {
     "name": "stdout",
     "output_type": "stream",
     "text": [
      "KFP SDK version: 2.10.1\n",
      "google_cloud_pipeline_components version: 2.19.0\n"
     ]
    }
   ],
   "source": [
    "! python3 -c \"import kfp; print('KFP SDK version: {}'.format(kfp.__version__))\"\n",
    "! python3 -c \"import google_cloud_pipeline_components; print('google_cloud_pipeline_components version: {}'.format(google_cloud_pipeline_components.__version__))\""
   ]
  },
  {
   "cell_type": "code",
   "execution_count": 3,
   "id": "fedcb9fa-586e-4e6a-bf44-0f9ccbf6157a",
   "metadata": {
    "tags": []
   },
   "outputs": [
    {
     "name": "stdout",
     "output_type": "stream",
     "text": [
      "Updated property [core/project].\n"
     ]
    }
   ],
   "source": [
    "import sys\n",
    "from IPython.display import Markdown, display\n",
    "\n",
    "PROJECT_ID=\"ai-hangsik\"\n",
    "LOCATION=\"us-central1\"\n",
    "\n",
    "# For only colab user, no need this process for Colab Enterprise in Vertex AI.\n",
    "if \"google.colab\" in sys.modules:\n",
    "    from google.colab import auth\n",
    "    auth.authenticate_user(project_id=PROJECT_ID)\n",
    "\n",
    "# set project.\n",
    "!gcloud config set project {PROJECT_ID}"
   ]
  },
  {
   "cell_type": "code",
   "execution_count": 4,
   "id": "1f501f30-9331-494b-83df-8310f950ef2c",
   "metadata": {
    "tags": []
   },
   "outputs": [],
   "source": [
    "import json\n",
    "from typing import NamedTuple\n",
    "\n",
    "from google.cloud import aiplatform\n",
    "from kfp import compiler, dsl\n",
    "from kfp.dsl import component\n",
    "from google.cloud import aiplatform, bigquery\n",
    "\n",
    "aiplatform.init(project=PROJECT_ID, location=LOCATION)"
   ]
  },
  {
   "cell_type": "code",
   "execution_count": 5,
   "id": "eef0b93d-8568-455a-bad1-25c7722a7001",
   "metadata": {
    "tags": []
   },
   "outputs": [
    {
     "name": "stdout",
     "output_type": "stream",
     "text": [
      "Creating gs://mlops-poc-0303/...\n"
     ]
    }
   ],
   "source": [
    "# Create a bucket.\n",
    "BUCKET_URI = f\"gs://mlops-poc-0303\"\n",
    "! gsutil mb -l {LOCATION} -p {PROJECT_ID} {BUCKET_URI}"
   ]
  },
  {
   "cell_type": "code",
   "execution_count": 11,
   "id": "9409d1d4-795d-470b-bce6-b9e3e41a187d",
   "metadata": {
    "tags": []
   },
   "outputs": [],
   "source": [
    "PIPELINE_ROOT = f\"{BUCKET_URI}/pipeline/\""
   ]
  },
  {
   "cell_type": "code",
   "execution_count": 6,
   "id": "10261014-2d6e-4d30-bb73-1e7d6837cd85",
   "metadata": {
    "tags": []
   },
   "outputs": [
    {
     "name": "stdout",
     "output_type": "stream",
     "text": [
      "SERVICE_ACCOUNT: 721521243942-compute@developer.gserviceaccount.com\n"
     ]
    }
   ],
   "source": [
    "shell_output = ! gcloud projects describe  $PROJECT_ID\n",
    "project_number = shell_output[-1].split(\":\")[1].strip().replace(\"'\", \"\")\n",
    "\n",
    "SERVICE_ACCOUNT = f\"{project_number}-compute@developer.gserviceaccount.com\"\n",
    "print(f\"SERVICE_ACCOUNT: {SERVICE_ACCOUNT}\")"
   ]
  },
  {
   "cell_type": "code",
   "execution_count": 7,
   "id": "6d84b01f-0a19-43d2-8a26-17db94008ca4",
   "metadata": {
    "tags": []
   },
   "outputs": [],
   "source": [
    "! gsutil iam ch serviceAccount:{SERVICE_ACCOUNT}:roles/storage.objectCreator $BUCKET_URI\n",
    "! gsutil iam ch serviceAccount:{SERVICE_ACCOUNT}:roles/storage.objectViewer $BUCKET_URI\n",
    "! gsutil iam ch serviceAccount:{SERVICE_ACCOUNT}:roles/storage.objectViewerroles/logging.logWriter"
   ]
  },
  {
   "cell_type": "markdown",
   "id": "5c9f1b7b-2da9-4de7-bcc1-1c288f368201",
   "metadata": {},
   "source": [
    "### Modules"
   ]
  },
  {
   "cell_type": "code",
   "execution_count": 19,
   "id": "7712ca8d-9076-4ac0-a3bc-a278f5d9f7bc",
   "metadata": {
    "tags": []
   },
   "outputs": [],
   "source": [
    "@component(base_image=\"python:3.10\")\n",
    "def data_prep(text: str) -> str:\n",
    "    \n",
    "    print(f\"### data_prep: {text}\")\n",
    "    \n",
    "    return text\n",
    "\n",
    "compiler.Compiler().compile(data_prep, \"data_prep.yaml\")"
   ]
  },
  {
   "cell_type": "code",
   "execution_count": 20,
   "id": "56df483e-df27-43dd-92d2-9f4ea9453646",
   "metadata": {
    "tags": []
   },
   "outputs": [],
   "source": [
    "@component(base_image=\"python:3.10\")\n",
    "def training(text: str) -> str:\n",
    "    \n",
    "    print(f\"### training: {text}\")\n",
    "    \n",
    "    return text\n",
    "\n",
    "compiler.Compiler().compile(training, \"training.yaml\")"
   ]
  },
  {
   "cell_type": "code",
   "execution_count": 21,
   "id": "55e4e193-ea07-4f38-a3d0-982ecf14e41d",
   "metadata": {
    "tags": []
   },
   "outputs": [],
   "source": [
    "@component(base_image=\"python:3.10\")\n",
    "def serving(text: str) -> str:\n",
    "    \n",
    "    print(f\"### serving: {text}\")\n",
    "    \n",
    "    return text\n",
    "\n",
    "compiler.Compiler().compile(serving, \"serving.yaml\")"
   ]
  },
  {
   "cell_type": "code",
   "execution_count": 22,
   "id": "afa8d405-4705-4e7e-9413-bc2599fba8ed",
   "metadata": {
    "tags": []
   },
   "outputs": [],
   "source": [
    "@component(base_image=\"python:3.10\")\n",
    "def option(text: str) -> str:\n",
    "    \n",
    "    print(f\"### option: {text}\")\n",
    "    \n",
    "    return text\n",
    "\n",
    "compiler.Compiler().compile(option, \"option.yaml\")"
   ]
  },
  {
   "cell_type": "code",
   "execution_count": 15,
   "id": "301de984-4f62-49ba-9f7b-95117ca92e11",
   "metadata": {
    "tags": []
   },
   "outputs": [],
   "source": [
    "# @dsl.pipeline(\n",
    "#     name=\"module-pipeline\",\n",
    "#     description=\"pipeline for modularization\",\n",
    "#     pipeline_root=PIPELINE_ROOT,\n",
    "# )\n",
    "\n",
    "# def pipeline(text: str,):\n",
    "    \n",
    "#     module1_output = module1(text=text)\n",
    "#     module2_output = module2(text=module1_output.output)\n",
    "\n",
    "# compiler.Compiler().compile(pipeline_func=translation_pipeline, package_path=\"module_pipeline.yaml\")"
   ]
  },
  {
   "cell_type": "code",
   "execution_count": 16,
   "id": "a64ab512-f1d8-46af-8a3d-d26476798d4e",
   "metadata": {
    "tags": []
   },
   "outputs": [
    {
     "name": "stdout",
     "output_type": "stream",
     "text": [
      "Creating PipelineJob\n",
      "PipelineJob created. Resource name: projects/721521243942/locations/us-central1/pipelineJobs/module-pipeline-20250305034604\n",
      "To use this PipelineJob in another session:\n",
      "pipeline_job = aiplatform.PipelineJob.get('projects/721521243942/locations/us-central1/pipelineJobs/module-pipeline-20250305034604')\n",
      "View Pipeline Job:\n",
      "https://console.cloud.google.com/vertex-ai/locations/us-central1/pipelines/runs/module-pipeline-20250305034604?project=721521243942\n",
      "PipelineJob projects/721521243942/locations/us-central1/pipelineJobs/module-pipeline-20250305034604 current state:\n",
      "PipelineState.PIPELINE_STATE_RUNNING\n",
      "PipelineJob projects/721521243942/locations/us-central1/pipelineJobs/module-pipeline-20250305034604 current state:\n",
      "PipelineState.PIPELINE_STATE_RUNNING\n",
      "PipelineJob projects/721521243942/locations/us-central1/pipelineJobs/module-pipeline-20250305034604 current state:\n",
      "PipelineState.PIPELINE_STATE_RUNNING\n",
      "PipelineJob projects/721521243942/locations/us-central1/pipelineJobs/module-pipeline-20250305034604 current state:\n",
      "PipelineState.PIPELINE_STATE_RUNNING\n",
      "PipelineJob projects/721521243942/locations/us-central1/pipelineJobs/module-pipeline-20250305034604 current state:\n",
      "PipelineState.PIPELINE_STATE_RUNNING\n",
      "PipelineJob run completed. Resource name: projects/721521243942/locations/us-central1/pipelineJobs/module-pipeline-20250305034604\n"
     ]
    }
   ],
   "source": [
    "# text = \"Moudule pipeline test\"\n",
    "\n",
    "# job = aiplatform.PipelineJob(\n",
    "\n",
    "#     display_name=\"module_pipeline\",\n",
    "#     template_path=\"module_pipeline.yaml\",\n",
    "#     parameter_values = {\"text\": text,},\n",
    "#     pipeline_root=PIPELINE_ROOT,\n",
    "# )\n",
    "\n",
    "# job.run(service_account = SERVICE_ACCOUNT)"
   ]
  },
  {
   "cell_type": "code",
   "execution_count": null,
   "id": "172150f0-70e7-4e73-b20e-f57922fd44a2",
   "metadata": {},
   "outputs": [],
   "source": []
  }
 ],
 "metadata": {
  "environment": {
   "kernel": "conda-base-py",
   "name": "workbench-notebooks.m128",
   "type": "gcloud",
   "uri": "us-docker.pkg.dev/deeplearning-platform-release/gcr.io/workbench-notebooks:m128"
  },
  "kernelspec": {
   "display_name": "Python 3 (ipykernel)",
   "language": "python",
   "name": "conda-base-py"
  },
  "language_info": {
   "codemirror_mode": {
    "name": "ipython",
    "version": 3
   },
   "file_extension": ".py",
   "mimetype": "text/x-python",
   "name": "python",
   "nbconvert_exporter": "python",
   "pygments_lexer": "ipython3",
   "version": "3.10.16"
  }
 },
 "nbformat": 4,
 "nbformat_minor": 5
}
