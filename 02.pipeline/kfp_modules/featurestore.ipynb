{
 "cells": [
  {
   "cell_type": "code",
   "execution_count": null,
   "id": "debe7b2a-2b63-4b9e-9aa3-aa325f3172bc",
   "metadata": {},
   "outputs": [],
   "source": [
    "# Copyright 2024 Forusone\n",
    "#\n",
    "# Licensed under the Apache License, Version 2.0 (the \"License\");\n",
    "# you may not use this file except in compliance with the License.\n",
    "# You may obtain a copy of the License at\n",
    "#\n",
    "#     https://www.apache.org/licenses/LICENSE-2.0\n",
    "#\n",
    "# Unless required by applicable law or agreed to in writing, software\n",
    "# distributed under the License is distributed on an \"AS IS\" BASIS,\n",
    "# WITHOUT WARRANTIES OR CONDITIONS OF ANY KIND, either express or implied.\n",
    "# See the License for the specific language governing permissions and\n",
    "# limitations under the License."
   ]
  },
  {
   "cell_type": "markdown",
   "id": "b0d1f5be-e3cf-4181-a43f-e9684851977b",
   "metadata": {},
   "source": [
    "## Feature store"
   ]
  },
  {
   "cell_type": "markdown",
   "id": "24638bbd-0d8d-42c4-88b6-f460678e48f3",
   "metadata": {},
   "source": [
    "* https://github.com/GoogleCloudPlatform/vertex-ai-samples/blob/main/notebooks/official/feature_store/online_feature_serving_and_fetching_bigquery_data_with_feature_store_bigtable.ipynb"
   ]
  },
  {
   "cell_type": "markdown",
   "id": "3a398b7d-e526-44ae-b3b5-718305373904",
   "metadata": {},
   "source": [
    "### Install packages"
   ]
  },
  {
   "cell_type": "code",
   "execution_count": 1,
   "id": "892443c5-a3d8-4eb2-8f8f-8c2bc4c4de69",
   "metadata": {
    "tags": []
   },
   "outputs": [
    {
     "name": "stdout",
     "output_type": "stream",
     "text": [
      "\n",
      "\u001b[1m[\u001b[0m\u001b[34;49mnotice\u001b[0m\u001b[1;39;49m]\u001b[0m\u001b[39;49m A new release of pip is available: \u001b[0m\u001b[31;49m25.0\u001b[0m\u001b[39;49m -> \u001b[0m\u001b[32;49m25.0.1\u001b[0m\n",
      "\u001b[1m[\u001b[0m\u001b[34;49mnotice\u001b[0m\u001b[1;39;49m]\u001b[0m\u001b[39;49m To update, run: \u001b[0m\u001b[32;49mpip install --upgrade pip\u001b[0m\n",
      "Note: you may need to restart the kernel to use updated packages.\n"
     ]
    }
   ],
   "source": [
    "# Install the packages\n",
    "%pip install --user --quiet  google-cloud-aiplatform \\\n",
    "                             google-cloud-storage \\\n",
    "                             google-cloud-pipeline-components \\\n",
    "                             google-cloud-bigquery \\\n",
    "                             kfp"
   ]
  },
  {
   "cell_type": "code",
   "execution_count": 2,
   "id": "7b528f62-4517-4830-8bd6-64e91d83f5cc",
   "metadata": {
    "tags": []
   },
   "outputs": [],
   "source": [
    "PROJECT_ID = \"ai-hangsik\"  # @param {type:\"string\"}\n",
    "LOCATION = \"us-central1\"  # @param {type:\"string\"}\n",
    "\n",
    "\n",
    "from google.cloud import aiplatform\n",
    "\n",
    "aiplatform.init(project=PROJECT_ID, location=LOCATION)\n",
    "API_ENDPOINT = f\"{LOCATION}-aiplatform.googleapis.com\""
   ]
  },
  {
   "cell_type": "code",
   "execution_count": 3,
   "id": "b990884a-2e15-499a-8b18-ef9f45136d27",
   "metadata": {
    "tags": []
   },
   "outputs": [],
   "source": [
    "\n",
    "from google.cloud import bigquery\n",
    "from google.cloud.aiplatform_v1 import (FeatureOnlineStoreAdminServiceClient,\n",
    "                                        FeatureOnlineStoreServiceClient,\n",
    "                                        FeatureRegistryServiceClient)\n",
    "from google.cloud.aiplatform_v1.types import feature as feature_pb2\n",
    "from google.cloud.aiplatform_v1.types import feature_group as feature_group_pb2\n",
    "from google.cloud.aiplatform_v1.types import feature_online_store as feature_online_store_pb2\n",
    "from google.cloud.aiplatform_v1.types import feature_online_store_admin_service as feature_online_store_admin_service_pb2\n",
    "from google.cloud.aiplatform_v1.types import feature_online_store_service as feature_online_store_service_pb2\n",
    "from google.cloud.aiplatform_v1.types import feature_registry_service as feature_registry_service_pb2\n",
    "from google.cloud.aiplatform_v1.types import feature_view as feature_view_pb2\n",
    "from google.cloud.aiplatform_v1.types import featurestore_service as featurestore_service_pb2\n",
    "from google.cloud.aiplatform_v1.types import io as io_pb2"
   ]
  },
  {
   "cell_type": "markdown",
   "id": "64076bfe-5c60-4c4a-9c7f-7b30215e4777",
   "metadata": {},
   "source": [
    "### Create a feature table in BigQuery"
   ]
  },
  {
   "cell_type": "code",
   "execution_count": 4,
   "id": "f5e79515-bfd2-4a00-b94d-92c19b5c20b9",
   "metadata": {
    "tags": []
   },
   "outputs": [
    {
     "name": "stdout",
     "output_type": "stream",
     "text": [
      "Loaded 300 rows.\n"
     ]
    }
   ],
   "source": [
    "from google.cloud import bigquery\n",
    "\n",
    "# Construct a BigQuery client object.\n",
    "client = bigquery.Client()\n",
    "\n",
    "# TODO(developer): Set table_id to the ID of the table to create.\n",
    "table_id = \"ai-hangsik.feature_stores.iris_data\"\n",
    "\n",
    "job_config = bigquery.LoadJobConfig(\n",
    "    schema=[\n",
    "        bigquery.SchemaField(\"entity_id\", \"STRING\"),\n",
    "        bigquery.SchemaField(\"sepal_length\", \"FLOAT\"),\n",
    "        bigquery.SchemaField(\"sepal_width\", \"FLOAT\"),\n",
    "        bigquery.SchemaField(\"petal_length\", \"FLOAT\"),\n",
    "        bigquery.SchemaField(\"petal_width\", \"FLOAT\"),\n",
    "        bigquery.SchemaField(\"species\", \"STRING\"),        \n",
    "        bigquery.SchemaField(\"feature_timestamp\", \"TIMESTAMP\"),        \n",
    "    ],\n",
    "    \n",
    "    skip_leading_rows=1,\n",
    "    # The source format defaults to CSV, so the line below is optional.\n",
    "    source_format=bigquery.SourceFormat.CSV,\n",
    ")\n",
    "uri = \"gs://mlops-poc-0303/test_data/iris - iris.csv\"\n",
    "\n",
    "load_job = client.load_table_from_uri(\n",
    "    uri, table_id, job_config=job_config\n",
    ")  # Make an API request.\n",
    "\n",
    "load_job.result()  # Waits for the job to complete.\n",
    "\n",
    "destination_table = client.get_table(table_id)  # Make an API request.\n",
    "print(\"Loaded {} rows.\".format(destination_table.num_rows))"
   ]
  },
  {
   "cell_type": "markdown",
   "id": "e478cdbe-4971-486e-993b-19c018b6f3d5",
   "metadata": {},
   "source": [
    "### Create feature group"
   ]
  },
  {
   "cell_type": "code",
   "execution_count": 8,
   "id": "146ff1aa-9f3f-4a05-9296-858642314654",
   "metadata": {
    "tags": []
   },
   "outputs": [],
   "source": [
    "FEATURE_GROUP_ID = \"iris_feature_group2\"  # @param {type: \"string\"}\n",
    "FEATURE_IDS = [\n",
    "    \"sepal_length\",\n",
    "    \"sepal_width\",\n",
    "    \"petal_length\",\n",
    "    \"petal_width\",\n",
    "    \"species\",\n",
    "]  # @param"
   ]
  },
  {
   "cell_type": "code",
   "execution_count": 9,
   "id": "5ca16c6b-991a-4fe4-b87b-470601b1471e",
   "metadata": {
    "tags": []
   },
   "outputs": [],
   "source": [
    "# Now, create the featureGroup\n",
    "BQ_VIEW_ID_FQN = table_id\n",
    "\n",
    "registry_client = FeatureRegistryServiceClient(\n",
    "    client_options={\"api_endpoint\": API_ENDPOINT}\n",
    ")\n",
    "\n",
    "feature_group_config = feature_group_pb2.FeatureGroup(\n",
    "    big_query=feature_group_pb2.FeatureGroup.BigQuery(\n",
    "        big_query_source=io_pb2.BigQuerySource(input_uri=f\"bq://{BQ_VIEW_ID_FQN}\")\n",
    "    )\n",
    ")\n",
    "\n",
    "create_group = registry_client.create_feature_group(\n",
    "    feature_registry_service_pb2.CreateFeatureGroupRequest(\n",
    "        parent=f\"projects/{PROJECT_ID}/locations/{LOCATION}\",\n",
    "        feature_group_id=FEATURE_GROUP_ID,\n",
    "        feature_group=feature_group_config,\n",
    "    )\n",
    ")"
   ]
  },
  {
   "cell_type": "code",
   "execution_count": 10,
   "id": "c473a901-e621-41c6-83fb-29e1b96b7427",
   "metadata": {
    "tags": []
   },
   "outputs": [
    {
     "name": "stdout",
     "output_type": "stream",
     "text": [
      "name: \"projects/721521243942/locations/us-central1/featureGroups/iris_feature_group2\"\n",
      "\n"
     ]
    }
   ],
   "source": [
    "print(create_group.result())"
   ]
  },
  {
   "cell_type": "code",
   "execution_count": 11,
   "id": "86511b10-f750-4161-ae7c-81528a96e933",
   "metadata": {
    "tags": []
   },
   "outputs": [],
   "source": [
    "create_feature = []\n",
    "for id in FEATURE_IDS:\n",
    "    create_feature.append(\n",
    "        registry_client.create_feature(\n",
    "            featurestore_service_pb2.CreateFeatureRequest(\n",
    "                parent=f\"projects/{PROJECT_ID}/locations/{LOCATION}/featureGroups/{FEATURE_GROUP_ID}\",\n",
    "                feature_id=id,\n",
    "                feature=feature_pb2.Feature(),\n",
    "            )\n",
    "        )\n",
    "    )"
   ]
  },
  {
   "cell_type": "code",
   "execution_count": 12,
   "id": "33ccb6f9-3c69-4c26-ac4c-20ee5c0cc900",
   "metadata": {
    "tags": []
   },
   "outputs": [
    {
     "name": "stdout",
     "output_type": "stream",
     "text": [
      "name: \"projects/721521243942/locations/us-central1/featureGroups/iris_feature_group2/features/sepal_length\"\n",
      "\n",
      "name: \"projects/721521243942/locations/us-central1/featureGroups/iris_feature_group2/features/sepal_width\"\n",
      "\n",
      "name: \"projects/721521243942/locations/us-central1/featureGroups/iris_feature_group2/features/petal_length\"\n",
      "\n",
      "name: \"projects/721521243942/locations/us-central1/featureGroups/iris_feature_group2/features/petal_width\"\n",
      "\n",
      "name: \"projects/721521243942/locations/us-central1/featureGroups/iris_feature_group2/features/species\"\n",
      "\n"
     ]
    }
   ],
   "source": [
    "\n",
    "for feature in create_feature:\n",
    "    print(feature.result())"
   ]
  },
  {
   "cell_type": "markdown",
   "id": "eec76816-598d-4e3d-bbfe-814012fee3b9",
   "metadata": {},
   "source": [
    "### Online Online store"
   ]
  },
  {
   "cell_type": "code",
   "execution_count": 13,
   "id": "03e6f2f0-0c24-4f55-8e4d-6dfb3cbf473e",
   "metadata": {
    "tags": []
   },
   "outputs": [],
   "source": [
    "\n",
    "admin_client = FeatureOnlineStoreAdminServiceClient(\n",
    "    client_options={\"api_endpoint\": API_ENDPOINT}\n",
    ")\n",
    "registry_client = FeatureRegistryServiceClient(\n",
    "    client_options={\"api_endpoint\": API_ENDPOINT}\n",
    ")\n",
    "   "
   ]
  },
  {
   "cell_type": "code",
   "execution_count": 15,
   "id": "1e0ed42b-ac56-471a-bf41-fec94cd85f53",
   "metadata": {
    "tags": []
   },
   "outputs": [],
   "source": [
    "FEATURE_ONLINE_STORE_ID = \"iris_online_data2\"  # @param {type:\"string\"}\n",
    "\n",
    "online_store_config = feature_online_store_pb2.FeatureOnlineStore(\n",
    "    bigtable=feature_online_store_pb2.FeatureOnlineStore.Bigtable(\n",
    "        auto_scaling=feature_online_store_pb2.FeatureOnlineStore.Bigtable.AutoScaling(\n",
    "            min_node_count=1, max_node_count=3, cpu_utilization_target=50\n",
    "        )\n",
    "    )\n",
    ")\n",
    "\n",
    "create_store = admin_client.create_feature_online_store(\n",
    "    feature_online_store_admin_service_pb2.CreateFeatureOnlineStoreRequest(\n",
    "        parent=f\"projects/{PROJECT_ID}/locations/{LOCATION}\",\n",
    "        feature_online_store_id=FEATURE_ONLINE_STORE_ID,\n",
    "        feature_online_store=online_store_config,\n",
    "    )\n",
    ")"
   ]
  },
  {
   "cell_type": "code",
   "execution_count": 16,
   "id": "752fbaa1-1d44-468f-8aa3-c7c1a3e0e456",
   "metadata": {
    "tags": []
   },
   "outputs": [
    {
     "name": "stdout",
     "output_type": "stream",
     "text": [
      "name: \"projects/721521243942/locations/us-central1/featureOnlineStores/iris_online_data2\"\n",
      "\n"
     ]
    }
   ],
   "source": [
    "print(create_store.result())\n"
   ]
  },
  {
   "cell_type": "code",
   "execution_count": 17,
   "id": "b12b1af7-99b2-4aff-a69d-f5554dc90306",
   "metadata": {
    "tags": []
   },
   "outputs": [
    {
     "data": {
      "text/plain": [
       "ListFeatureOnlineStoresPager<feature_online_stores {\n",
       "  bigtable {\n",
       "    auto_scaling {\n",
       "      min_node_count: 1\n",
       "      max_node_count: 3\n",
       "      cpu_utilization_target: 50\n",
       "    }\n",
       "  }\n",
       "  name: \"projects/721521243942/locations/us-central1/featureOnlineStores/iris_online_data\"\n",
       "  create_time {\n",
       "    seconds: 1741663870\n",
       "    nanos: 51140000\n",
       "  }\n",
       "  update_time {\n",
       "    seconds: 1741663870\n",
       "    nanos: 748471000\n",
       "  }\n",
       "  etag: \"AMEw9yO9yjy30X45Xkpapntnj6X3A6Lgi7Jxu7HqPLgqciV11GArYNbieylQSj-cqNx7\"\n",
       "}\n",
       "feature_online_stores {\n",
       "  bigtable {\n",
       "    auto_scaling {\n",
       "      min_node_count: 1\n",
       "      max_node_count: 3\n",
       "      cpu_utilization_target: 50\n",
       "    }\n",
       "  }\n",
       "  name: \"projects/721521243942/locations/us-central1/featureOnlineStores/iris_online_data2\"\n",
       "  create_time {\n",
       "    seconds: 1742183618\n",
       "    nanos: 407517000\n",
       "  }\n",
       "  update_time {\n",
       "    seconds: 1742183618\n",
       "    nanos: 996144000\n",
       "  }\n",
       "  etag: \"AMEw9yMLsVgF0GbfWlEpDD2TijTbxjPNlR6LCPqeHUD8LBwUWXCa_R5nno4DZDq7V30E\"\n",
       "}\n",
       "feature_online_stores {\n",
       "  bigtable {\n",
       "    auto_scaling {\n",
       "      min_node_count: 3\n",
       "      max_node_count: 4\n",
       "      cpu_utilization_target: 50\n",
       "    }\n",
       "  }\n",
       "  name: \"projects/721521243942/locations/us-central1/featureOnlineStores/test_store\"\n",
       "  create_time {\n",
       "    seconds: 1741681546\n",
       "    nanos: 929309000\n",
       "  }\n",
       "  update_time {\n",
       "    seconds: 1741681547\n",
       "    nanos: 582381000\n",
       "  }\n",
       "  etag: \"AMEw9yNKjV6whgcgltjAszEfDJDIJ52m_kd0qcSgz644PlSQTYIyjug8eIAbwxFhRjYS\"\n",
       "}\n",
       "feature_online_stores {\n",
       "  bigtable {\n",
       "    auto_scaling {\n",
       "      min_node_count: 1\n",
       "      max_node_count: 1\n",
       "      cpu_utilization_target: 50\n",
       "    }\n",
       "  }\n",
       "  name: \"projects/721521243942/locations/us-central1/featureOnlineStores/data\"\n",
       "  create_time {\n",
       "    seconds: 1741668238\n",
       "    nanos: 773267000\n",
       "  }\n",
       "  update_time {\n",
       "    seconds: 1741668239\n",
       "    nanos: 478192000\n",
       "  }\n",
       "  etag: \"AMEw9yNRGGwoobp517nbyQYLcL7xc85HZj4sl14U3NzCaXDFXTZvjHOnb3kmu9-nekU_\"\n",
       "}\n",
       "feature_online_stores {\n",
       "  bigtable {\n",
       "    auto_scaling {\n",
       "      min_node_count: 1\n",
       "      max_node_count: 1\n",
       "      cpu_utilization_target: 50\n",
       "    }\n",
       "  }\n",
       "  name: \"projects/721521243942/locations/us-central1/featureOnlineStores/online_store_test\"\n",
       "  create_time {\n",
       "    seconds: 1722240180\n",
       "    nanos: 643725000\n",
       "  }\n",
       "  update_time {\n",
       "    seconds: 1722240180\n",
       "    nanos: 695278000\n",
       "  }\n",
       "  etag: \"AMEw9yPEFV3FVOdQQvS4bLM_QRiTQneJ7L7fYigt2T1H9BSEcWlRc2Zpd7ehZnJPqDKP\"\n",
       "}\n",
       ">"
      ]
     },
     "execution_count": 17,
     "metadata": {},
     "output_type": "execute_result"
    }
   ],
   "source": [
    "# Use list to verify the store is created.\n",
    "admin_client.list_feature_online_stores(\n",
    "    parent=f\"projects/{PROJECT_ID}/locations/{LOCATION}\"\n",
    ")"
   ]
  },
  {
   "cell_type": "markdown",
   "id": "899790a0-f193-49ff-9e25-13ec34a57aeb",
   "metadata": {},
   "source": [
    "### Create featureView directly with BQ source"
   ]
  },
  {
   "cell_type": "code",
   "execution_count": 19,
   "id": "b55896eb-e3fd-451b-a246-25f88e47457a",
   "metadata": {
    "tags": []
   },
   "outputs": [],
   "source": [
    "FEATURE_VIEW_ID = \"iris_view2\"  # @param {type:\"string\"}\n",
    "CRON_SCHEDULE = \"TZ=America/Los_Angeles 56 * * * *\"  # @param {type:\"string\"}\n",
    "BQ_VIEW_ID_FQN = table_id\n",
    "\n",
    "big_query_source = feature_view_pb2.FeatureView.BigQuerySource(\n",
    "    uri=f\"bq://{BQ_VIEW_ID_FQN}\", entity_id_columns=[\"entity_id\"]\n",
    ")\n",
    "\n",
    "sync_config = feature_view_pb2.FeatureView.SyncConfig(cron=CRON_SCHEDULE)\n",
    "\n",
    "create_view = admin_client.create_feature_view(\n",
    "    feature_online_store_admin_service_pb2.CreateFeatureViewRequest(\n",
    "        parent=f\"projects/{PROJECT_ID}/locations/{LOCATION}/featureOnlineStores/{FEATURE_ONLINE_STORE_ID}\",\n",
    "        feature_view_id=FEATURE_VIEW_ID,\n",
    "        feature_view=feature_view_pb2.FeatureView(\n",
    "            big_query_source=big_query_source,\n",
    "            sync_config=sync_config,\n",
    "        ),\n",
    "    )\n",
    ")"
   ]
  },
  {
   "cell_type": "code",
   "execution_count": 20,
   "id": "49938f69-5418-49cb-90c8-ebd20539c1b8",
   "metadata": {
    "tags": []
   },
   "outputs": [
    {
     "name": "stdout",
     "output_type": "stream",
     "text": [
      "name: \"projects/721521243942/locations/us-central1/featureOnlineStores/iris_online_data2/featureViews/iris_view2\"\n",
      "\n"
     ]
    }
   ],
   "source": [
    "# Wait for LRO to complete and show result\n",
    "print(create_view.result())"
   ]
  },
  {
   "cell_type": "code",
   "execution_count": 31,
   "id": "5e6be7a0-47eb-4eaf-b4ac-b60a356782d4",
   "metadata": {
    "tags": []
   },
   "outputs": [
    {
     "name": "stdout",
     "output_type": "stream",
     "text": [
      "721521243942\n"
     ]
    }
   ],
   "source": [
    "import subprocess\n",
    "command = 'gcloud projects describe $(gcloud config get-value project) --format=\"value(projectNumber)\"'\n",
    "PROJECT_NUMBER = subprocess.check_output(command, shell=True, text=True).strip()\n",
    "print(project_num)"
   ]
  },
  {
   "cell_type": "code",
   "execution_count": 32,
   "id": "eab7a34e-eb46-47ab-ba52-1f5786a65fce",
   "metadata": {
    "tags": []
   },
   "outputs": [],
   "source": [
    "data_client = FeatureOnlineStoreServiceClient(\n",
    "    client_options={\"api_endpoint\": API_ENDPOINT}\n",
    ")"
   ]
  },
  {
   "cell_type": "code",
   "execution_count": 34,
   "id": "28c7ba67-6509-4d37-881d-76d406e0aa53",
   "metadata": {
    "tags": []
   },
   "outputs": [
    {
     "name": "stdout",
     "output_type": "stream",
     "text": [
      "('projects/721521243942/locations/us-central1/featureOnlineStores/iris_online_data2/featureViews/iris_view2',)\n"
     ]
    }
   ],
   "source": [
    "feature_view=f\"projects/{PROJECT_NUMBER}/locations/{LOCATION}/featureOnlineStores/{FEATURE_ONLINE_STORE_ID}/featureViews/{FEATURE_VIEW_ID}\",\n",
    "print(feature_view)"
   ]
  },
  {
   "cell_type": "code",
   "execution_count": 35,
   "id": "d7ff1eb9-f63b-4f1e-af89-46f4d83a0ad2",
   "metadata": {
    "tags": []
   },
   "outputs": [
    {
     "data": {
      "text/plain": [
       "key_values {\n",
       "  features {\n",
       "    value {\n",
       "      double_value: 4.4\n",
       "    }\n",
       "    name: \"sepal_length\"\n",
       "  }\n",
       "  features {\n",
       "    value {\n",
       "      double_value: 3\n",
       "    }\n",
       "    name: \"sepal_width\"\n",
       "  }\n",
       "  features {\n",
       "    value {\n",
       "      double_value: 1.3\n",
       "    }\n",
       "    name: \"petal_length\"\n",
       "  }\n",
       "  features {\n",
       "    value {\n",
       "      double_value: 0.2\n",
       "    }\n",
       "    name: \"petal_width\"\n",
       "  }\n",
       "  features {\n",
       "    value {\n",
       "      string_value: \"setosa\"\n",
       "    }\n",
       "    name: \"species\"\n",
       "  }\n",
       "  features {\n",
       "    value {\n",
       "      int64_value: 1741694400000000\n",
       "    }\n",
       "    name: \"feature_timestamp\"\n",
       "  }\n",
       "}"
      ]
     },
     "execution_count": 35,
     "metadata": {},
     "output_type": "execute_result"
    }
   ],
   "source": [
    "# PROJECT_ID = 721521243942\n",
    "\n",
    "data_client.fetch_feature_values(\n",
    "    request=feature_online_store_service_pb2.FetchFeatureValuesRequest(\n",
    "        feature_view=f\"projects/{PROJECT_NUMBER}/locations/{LOCATION}/featureOnlineStores/{FEATURE_ONLINE_STORE_ID}/featureViews/{FEATURE_VIEW_ID}\",\n",
    "        data_key=feature_online_store_service_pb2.FeatureViewDataKey(key=\"id_39\"),\n",
    "    )\n",
    ")"
   ]
  },
  {
   "cell_type": "code",
   "execution_count": 36,
   "id": "536ecff8-60f3-473b-87a9-e9520ec3b39b",
   "metadata": {
    "tags": []
   },
   "outputs": [
    {
     "data": {
      "text/plain": [
       "proto_struct {\n",
       "  fields {\n",
       "    key: \"species\"\n",
       "    value {\n",
       "      string_value: \"setosa\"\n",
       "    }\n",
       "  }\n",
       "  fields {\n",
       "    key: \"sepal_width\"\n",
       "    value {\n",
       "      number_value: 3\n",
       "    }\n",
       "  }\n",
       "  fields {\n",
       "    key: \"sepal_length\"\n",
       "    value {\n",
       "      number_value: 4.3\n",
       "    }\n",
       "  }\n",
       "  fields {\n",
       "    key: \"petal_width\"\n",
       "    value {\n",
       "      number_value: 0.1\n",
       "    }\n",
       "  }\n",
       "  fields {\n",
       "    key: \"petal_length\"\n",
       "    value {\n",
       "      number_value: 1.1\n",
       "    }\n",
       "  }\n",
       "  fields {\n",
       "    key: \"feature_timestamp\"\n",
       "    value {\n",
       "      number_value: 1.7416944e+15\n",
       "    }\n",
       "  }\n",
       "}"
      ]
     },
     "execution_count": 36,
     "metadata": {},
     "output_type": "execute_result"
    }
   ],
   "source": [
    "data_client.fetch_feature_values(\n",
    "    request=feature_online_store_service_pb2.FetchFeatureValuesRequest(\n",
    "        feature_view=f\"projects/{PROJECT_ID}/locations/{LOCATION}/featureOnlineStores/{FEATURE_ONLINE_STORE_ID}/featureViews/{FEATURE_VIEW_ID}\",\n",
    "        data_key=feature_online_store_service_pb2.FeatureViewDataKey(key=\"id_14\"),\n",
    "        data_format=feature_online_store_service_pb2.FeatureViewDataFormat.PROTO_STRUCT,\n",
    "    )\n",
    ")"
   ]
  },
  {
   "cell_type": "code",
   "execution_count": null,
   "id": "4f4f3034-7e7f-432e-8c25-5aca76ef8c64",
   "metadata": {},
   "outputs": [],
   "source": []
  }
 ],
 "metadata": {
  "environment": {
   "kernel": "conda-base-py",
   "name": "workbench-notebooks.m128",
   "type": "gcloud",
   "uri": "us-docker.pkg.dev/deeplearning-platform-release/gcr.io/workbench-notebooks:m128"
  },
  "kernelspec": {
   "display_name": "Python 3 (ipykernel)",
   "language": "python",
   "name": "conda-base-py"
  },
  "language_info": {
   "codemirror_mode": {
    "name": "ipython",
    "version": 3
   },
   "file_extension": ".py",
   "mimetype": "text/x-python",
   "name": "python",
   "nbconvert_exporter": "python",
   "pygments_lexer": "ipython3",
   "version": "3.10.16"
  }
 },
 "nbformat": 4,
 "nbformat_minor": 5
}
