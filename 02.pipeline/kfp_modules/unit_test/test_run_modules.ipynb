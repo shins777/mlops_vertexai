{
 "cells": [
  {
   "cell_type": "code",
   "execution_count": 1,
   "id": "69d4c710-d795-4f91-82cf-d28a98511f31",
   "metadata": {
    "tags": []
   },
   "outputs": [
    {
     "name": "stdout",
     "output_type": "stream",
     "text": [
      "\n",
      "\u001b[1m[\u001b[0m\u001b[34;49mnotice\u001b[0m\u001b[1;39;49m]\u001b[0m\u001b[39;49m A new release of pip is available: \u001b[0m\u001b[31;49m25.0\u001b[0m\u001b[39;49m -> \u001b[0m\u001b[32;49m25.0.1\u001b[0m\n",
      "\u001b[1m[\u001b[0m\u001b[34;49mnotice\u001b[0m\u001b[1;39;49m]\u001b[0m\u001b[39;49m To update, run: \u001b[0m\u001b[32;49mpip install --upgrade pip\u001b[0m\n",
      "Note: you may need to restart the kernel to use updated packages.\n"
     ]
    }
   ],
   "source": [
    "# Install the packages\n",
    "%pip install --user --quiet google-cloud-aiplatform \\\n",
    "                         google-cloud-storage \\\n",
    "                         google-cloud-pipeline-components \\\n",
    "                         kfp"
   ]
  },
  {
   "cell_type": "code",
   "execution_count": 4,
   "id": "c59df22f-bab9-4b72-9d0f-47743dd56538",
   "metadata": {
    "tags": []
   },
   "outputs": [
    {
     "name": "stdout",
     "output_type": "stream",
     "text": [
      "Updated property [core/project].\n"
     ]
    }
   ],
   "source": [
    "import sys\n",
    "from IPython.display import Markdown, display\n",
    "\n",
    "PROJECT_ID=\"ai-hangsik\"\n",
    "LOCATION=\"us-central1\"\n",
    "BUCKET_URI = f\"gs://mlops-poc-0303\"\n",
    "PIPELINE_ROOT = f\"{BUCKET_URI}/pipeline/\"\n",
    "\n",
    "# For only colab user, no need this process for Colab Enterprise in Vertex AI.\n",
    "if \"google.colab\" in sys.modules:\n",
    "    from google.colab import auth\n",
    "    auth.authenticate_user(project_id=PROJECT_ID)\n",
    "\n",
    "# set project.\n",
    "!gcloud config set project {PROJECT_ID}"
   ]
  },
  {
   "cell_type": "code",
   "execution_count": 3,
   "id": "07d41578-6630-4f29-974c-7e71495991c8",
   "metadata": {
    "tags": []
   },
   "outputs": [],
   "source": [
    "import json\n",
    "from typing import NamedTuple\n",
    "\n",
    "from google.cloud import aiplatform\n",
    "from kfp import compiler, dsl\n",
    "from kfp.dsl import component\n",
    "from google.cloud import aiplatform, bigquery\n",
    "\n",
    "aiplatform.init(project=PROJECT_ID, location=LOCATION)"
   ]
  },
  {
   "cell_type": "code",
   "execution_count": 5,
   "id": "81bf622b-5f3e-4bb8-9515-be02037b0fb9",
   "metadata": {
    "tags": []
   },
   "outputs": [
    {
     "name": "stdout",
     "output_type": "stream",
     "text": [
      "SERVICE_ACCOUNT: 721521243942-compute@developer.gserviceaccount.com\n"
     ]
    }
   ],
   "source": [
    "shell_output = ! gcloud projects describe  $PROJECT_ID\n",
    "project_number = shell_output[-1].split(\":\")[1].strip().replace(\"'\", \"\")\n",
    "\n",
    "SERVICE_ACCOUNT = f\"{project_number}-compute@developer.gserviceaccount.com\"\n",
    "print(f\"SERVICE_ACCOUNT: {SERVICE_ACCOUNT}\")"
   ]
  },
  {
   "cell_type": "code",
   "execution_count": 55,
   "id": "3feace29-f581-457a-902e-580068b0d7c3",
   "metadata": {
    "tags": []
   },
   "outputs": [],
   "source": [
    "def build_pipeline ( pipeline_name:str,\n",
    "                     pipeline_desc:str,\n",
    "                     pipeline_root:str, \n",
    "                     data_comp_file:str,\n",
    "                     training_comp_file:str,\n",
    "                     serving_comp_file:str):\n",
    "\n",
    "    @dsl.pipeline(\n",
    "        name = pipeline_name,\n",
    "        description = pipeline_desc,\n",
    "        pipeline_root = pipeline_root,)\n",
    "\n",
    "    def module_pipeline(text: str, ):\n",
    "\n",
    "        from kfp import components\n",
    "\n",
    "        data_component = components.load_component_from_file(data_comp_file)\n",
    "        training_component = components.load_component_from_file(training_comp_file)\n",
    "        serving_component = components.load_component_from_file(serving_comp_file)\n",
    "\n",
    "        data_output = data_component(text=text)\n",
    "        training_output = training_component(text=data_output.output)\n",
    "        serving_output = serving_component(text=training_output.output)\n",
    "\n",
    "    compiler.Compiler().compile(pipeline_func=module_pipeline, package_path=\"module_pipeline.yaml\")\n"
   ]
  },
  {
   "cell_type": "code",
   "execution_count": 56,
   "id": "74b691e7-69f8-45c9-bd88-67509f5111fc",
   "metadata": {
    "tags": []
   },
   "outputs": [],
   "source": [
    "build_pipeline( pipeline_name = \"module_pipeline\",\n",
    "                pipeline_desc = \"desc for module_pipeline\",\n",
    "                pipeline_root = PIPELINE_ROOT,\n",
    "\n",
    "                data_comp_file = 'data_prep.yaml',\n",
    "                training_comp_file = 'training.yaml',\n",
    "                serving_comp_file = 'serving.yaml' \n",
    "              )"
   ]
  },
  {
   "cell_type": "code",
   "execution_count": 57,
   "id": "797201ae-d489-4b09-944f-6c9521fc0b95",
   "metadata": {
    "tags": []
   },
   "outputs": [
    {
     "name": "stdout",
     "output_type": "stream",
     "text": [
      "Creating PipelineJob\n",
      "PipelineJob created. Resource name: projects/721521243942/locations/us-central1/pipelineJobs/module-pipeline-20250305082347\n",
      "To use this PipelineJob in another session:\n",
      "pipeline_job = aiplatform.PipelineJob.get('projects/721521243942/locations/us-central1/pipelineJobs/module-pipeline-20250305082347')\n",
      "View Pipeline Job:\n",
      "https://console.cloud.google.com/vertex-ai/locations/us-central1/pipelines/runs/module-pipeline-20250305082347?project=721521243942\n",
      "PipelineJob projects/721521243942/locations/us-central1/pipelineJobs/module-pipeline-20250305082347 current state:\n",
      "PipelineState.PIPELINE_STATE_RUNNING\n",
      "PipelineJob projects/721521243942/locations/us-central1/pipelineJobs/module-pipeline-20250305082347 current state:\n",
      "PipelineState.PIPELINE_STATE_RUNNING\n",
      "PipelineJob projects/721521243942/locations/us-central1/pipelineJobs/module-pipeline-20250305082347 current state:\n",
      "PipelineState.PIPELINE_STATE_RUNNING\n",
      "PipelineJob projects/721521243942/locations/us-central1/pipelineJobs/module-pipeline-20250305082347 current state:\n",
      "PipelineState.PIPELINE_STATE_RUNNING\n",
      "PipelineJob run completed. Resource name: projects/721521243942/locations/us-central1/pipelineJobs/module-pipeline-20250305082347\n"
     ]
    }
   ],
   "source": [
    "text = \"Hi this is moudule pipeline test\"\n",
    "\n",
    "job = aiplatform.PipelineJob(\n",
    "\n",
    "    display_name=\"module_pipeline\",\n",
    "    template_path=\"module_pipeline.yaml\",\n",
    "    parameter_values = {\"text\": text,\n",
    "                       },\n",
    "    pipeline_root=PIPELINE_ROOT,\n",
    "    enable_caching = False\n",
    ")\n",
    "\n",
    "job.run(service_account = SERVICE_ACCOUNT)"
   ]
  },
  {
   "cell_type": "code",
   "execution_count": null,
   "id": "77734456-6fce-4bb6-9b8f-55e2c3164e9f",
   "metadata": {},
   "outputs": [],
   "source": []
  }
 ],
 "metadata": {
  "environment": {
   "kernel": "conda-base-py",
   "name": "workbench-notebooks.m128",
   "type": "gcloud",
   "uri": "us-docker.pkg.dev/deeplearning-platform-release/gcr.io/workbench-notebooks:m128"
  },
  "kernelspec": {
   "display_name": "Python 3 (ipykernel)",
   "language": "python",
   "name": "conda-base-py"
  },
  "language_info": {
   "codemirror_mode": {
    "name": "ipython",
    "version": 3
   },
   "file_extension": ".py",
   "mimetype": "text/x-python",
   "name": "python",
   "nbconvert_exporter": "python",
   "pygments_lexer": "ipython3",
   "version": "3.10.16"
  }
 },
 "nbformat": 4,
 "nbformat_minor": 5
}
