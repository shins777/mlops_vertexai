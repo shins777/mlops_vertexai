{
 "cells": [
  {
   "cell_type": "code",
   "execution_count": 66,
   "metadata": {
    "id": "copyright",
    "tags": []
   },
   "outputs": [],
   "source": [
    "# Copyright 2024 Forusone\n",
    "#\n",
    "# Licensed under the Apache License, Version 2.0 (the \"License\");\n",
    "# you may not use this file except in compliance with the License.\n",
    "# You may obtain a copy of the License at\n",
    "#\n",
    "#     https://www.apache.org/licenses/LICENSE-2.0\n",
    "#\n",
    "# Unless required by applicable law or agreed to in writing, software\n",
    "# distributed under the License is distributed on an \"AS IS\" BASIS,\n",
    "# WITHOUT WARRANTIES OR CONDITIONS OF ANY KIND, either express or implied.\n",
    "# See the License for the specific language governing permissions and\n",
    "# limitations under the License. "
   ]
  },
  {
   "cell_type": "markdown",
   "metadata": {
    "id": "title:generic"
   },
   "source": [
    "# Kubeflow pipeline on Vertex AI\n",
    "\n",
    "This notebook simplifies the [pipelines_intro_kfp](https://colab.sandbox.google.com/github/GoogleCloudPlatform/vertex-ai-samples/blob/main/notebooks/official/pipelines/pipelines_intro_kfp.ipynb) in the Google official site for a MLOps workshop.  \n",
    "You can see more pipeline examplses in [this site](https://github.com/GoogleCloudPlatform/vertex-ai-samples/tree/main/notebooks/official/pipelines)\n",
    "\n",
    "* [Vertex AI Pipelines](https://cloud.google.com/vertex-ai/docs/pipelines)\n",
    "* [the Kubeflow Pipelines (KFP) SDK](https://www.kubeflow.org/docs/components/pipelines/)\n",
    "* [Vertex AI Pipelines](https://cloud.google.com/vertex-ai/docs/pipelines/introduction)\n"
   ]
  },
  {
   "cell_type": "code",
   "execution_count": 67,
   "metadata": {
    "tags": []
   },
   "outputs": [
    {
     "data": {
      "text/plain": [
       "'/home/jupyter/mlops_vertexai/02.pipeline/kfp_basic'"
      ]
     },
     "execution_count": 67,
     "metadata": {},
     "output_type": "execute_result"
    }
   ],
   "source": [
    "%pwd"
   ]
  },
  {
   "cell_type": "markdown",
   "metadata": {
    "id": "d0be1c1c229a"
   },
   "source": [
    "## Install Vertex AI SDK"
   ]
  },
  {
   "cell_type": "code",
   "execution_count": 68,
   "metadata": {
    "colab": {
     "base_uri": "https://localhost:8080/"
    },
    "executionInfo": {
     "elapsed": 42290,
     "status": "ok",
     "timestamp": 1735825813628,
     "user": {
      "displayName": "Hangsik Shin",
      "userId": "04632555686962088332"
     },
     "user_tz": -540
    },
    "id": "1fd00fa70a2a",
    "outputId": "04b7c270-70d8-4d68-aeec-cfd94d681d3e",
    "tags": []
   },
   "outputs": [
    {
     "name": "stdout",
     "output_type": "stream",
     "text": [
      "\n",
      "\u001b[1m[\u001b[0m\u001b[34;49mnotice\u001b[0m\u001b[1;39;49m]\u001b[0m\u001b[39;49m A new release of pip is available: \u001b[0m\u001b[31;49m25.0\u001b[0m\u001b[39;49m -> \u001b[0m\u001b[32;49m25.0.1\u001b[0m\n",
      "\u001b[1m[\u001b[0m\u001b[34;49mnotice\u001b[0m\u001b[1;39;49m]\u001b[0m\u001b[39;49m To update, run: \u001b[0m\u001b[32;49mpip install --upgrade pip\u001b[0m\n",
      "Note: you may need to restart the kernel to use updated packages.\n"
     ]
    }
   ],
   "source": [
    "# Install the packages\n",
    "%pip install --user --quiet google-cloud-aiplatform \\\n",
    "                         google-cloud-storage \\\n",
    "                         google-cloud-pipeline-components \\\n",
    "                         kfp"
   ]
  },
  {
   "cell_type": "code",
   "execution_count": 69,
   "metadata": {
    "colab": {
     "base_uri": "https://localhost:8080/"
    },
    "executionInfo": {
     "elapsed": 1190,
     "status": "ok",
     "timestamp": 1735825814826,
     "user": {
      "displayName": "Hangsik Shin",
      "userId": "04632555686962088332"
     },
     "user_tz": -540
    },
    "id": "check_versions:kfp",
    "outputId": "839c89b6-a2ab-4be2-e51b-c2c709895868",
    "tags": []
   },
   "outputs": [
    {
     "name": "stdout",
     "output_type": "stream",
     "text": [
      "KFP SDK version: 2.10.1\n",
      "google_cloud_pipeline_components version: 2.19.0\n"
     ]
    }
   ],
   "source": [
    "! python3 -c \"import kfp; print('KFP SDK version: {}'.format(kfp.__version__))\"\n",
    "! python3 -c \"import google_cloud_pipeline_components; print('google_cloud_pipeline_components version: {}'.format(google_cloud_pipeline_components.__version__))\""
   ]
  },
  {
   "cell_type": "markdown",
   "metadata": {
    "id": "8lWmbi5lNqrz"
   },
   "source": [
    "## Configuration"
   ]
  },
  {
   "cell_type": "markdown",
   "metadata": {
    "id": "5dccb1c8feb6"
   },
   "source": [
    "### Authenticate your notebook environment"
   ]
  },
  {
   "cell_type": "code",
   "execution_count": 70,
   "metadata": {
    "colab": {
     "base_uri": "https://localhost:8080/"
    },
    "executionInfo": {
     "elapsed": 362949,
     "status": "ok",
     "timestamp": 1735826177780,
     "user": {
      "displayName": "Hangsik Shin",
      "userId": "04632555686962088332"
     },
     "user_tz": -540
    },
    "id": "cc7251520a07",
    "outputId": "182be722-b62d-40fe-85c5-3c2e860cd635",
    "tags": []
   },
   "outputs": [
    {
     "name": "stdout",
     "output_type": "stream",
     "text": [
      "Updated property [core/project].\n"
     ]
    }
   ],
   "source": [
    "import sys\n",
    "from IPython.display import Markdown, display\n",
    "\n",
    "PROJECT_ID=\"ai-hangsik\"\n",
    "LOCATION=\"us-central1\"\n",
    "\n",
    "# For only colab user, no need this process for Colab Enterprise in Vertex AI.\n",
    "if \"google.colab\" in sys.modules:\n",
    "    from google.colab import auth\n",
    "    auth.authenticate_user(project_id=PROJECT_ID)\n",
    "\n",
    "# set project.\n",
    "!gcloud config set project {PROJECT_ID}"
   ]
  },
  {
   "cell_type": "markdown",
   "metadata": {
    "id": "z5kozf3fN56H"
   },
   "source": [
    "### Initialize Vertex AI SDK"
   ]
  },
  {
   "cell_type": "code",
   "execution_count": 71,
   "metadata": {
    "id": "foYXkXgHN87K",
    "tags": []
   },
   "outputs": [],
   "source": [
    "import json\n",
    "from typing import NamedTuple\n",
    "\n",
    "from google.cloud import aiplatform\n",
    "from kfp import compiler, dsl\n",
    "from kfp.dsl import component\n",
    "from google.cloud import aiplatform, bigquery\n",
    "\n",
    "aiplatform.init(project=PROJECT_ID, location=LOCATION)"
   ]
  },
  {
   "cell_type": "code",
   "execution_count": 72,
   "metadata": {
    "id": "Sj9Kx8FNr3h6",
    "tags": []
   },
   "outputs": [],
   "source": [
    "# @title Enable Cloud translation API\n",
    "!gcloud services enable translate.googleapis.com"
   ]
  },
  {
   "cell_type": "markdown",
   "metadata": {
    "id": "tIBJHtwlOFPK"
   },
   "source": [
    "### Create a bucket"
   ]
  },
  {
   "cell_type": "code",
   "execution_count": 73,
   "metadata": {
    "colab": {
     "base_uri": "https://localhost:8080/"
    },
    "executionInfo": {
     "elapsed": 3316,
     "status": "ok",
     "timestamp": 1735826185632,
     "user": {
      "displayName": "Hangsik Shin",
      "userId": "04632555686962088332"
     },
     "user_tz": -540
    },
    "id": "htkR83ELOEnx",
    "outputId": "34ea7ac0-fe42-43ee-a700-5a2925039a8b",
    "tags": []
   },
   "outputs": [
    {
     "name": "stdout",
     "output_type": "stream",
     "text": [
      "Creating gs://mlops-0221/...\n",
      "ServiceException: 409 A Cloud Storage bucket named 'mlops-0221' already exists. Try another name. Bucket names must be globally unique across all Google Cloud projects, including those outside of your organization.\n"
     ]
    }
   ],
   "source": [
    "# Create a bucket.\n",
    "BUCKET_URI = f\"gs://mlops-0221\"\n",
    "! gsutil mb -l {LOCATION} -p {PROJECT_ID} {BUCKET_URI}"
   ]
  },
  {
   "cell_type": "markdown",
   "metadata": {
    "id": "run_pipeline_service_account"
   },
   "source": [
    "### Specifying a service account to use for a pipeline run"
   ]
  },
  {
   "cell_type": "code",
   "execution_count": 74,
   "metadata": {
    "colab": {
     "base_uri": "https://localhost:8080/"
    },
    "executionInfo": {
     "elapsed": 1031,
     "status": "ok",
     "timestamp": 1735826186666,
     "user": {
      "displayName": "Hangsik Shin",
      "userId": "04632555686962088332"
     },
     "user_tz": -540
    },
    "id": "QG0m6zlRxUhw",
    "outputId": "8a1d2d0c-859a-4f38-a2f1-b35295722070",
    "tags": []
   },
   "outputs": [
    {
     "name": "stdout",
     "output_type": "stream",
     "text": [
      "SERVICE_ACCOUNT: 721521243942-compute@developer.gserviceaccount.com\n"
     ]
    }
   ],
   "source": [
    "shell_output = ! gcloud projects describe  $PROJECT_ID\n",
    "project_number = shell_output[-1].split(\":\")[1].strip().replace(\"'\", \"\")\n",
    "\n",
    "SERVICE_ACCOUNT = f\"{project_number}-compute@developer.gserviceaccount.com\"\n",
    "print(f\"SERVICE_ACCOUNT: {SERVICE_ACCOUNT}\")"
   ]
  },
  {
   "cell_type": "markdown",
   "metadata": {
    "id": "uBTd62Ae2FEO"
   },
   "source": [
    "### Set access for Service account"
   ]
  },
  {
   "cell_type": "code",
   "execution_count": 75,
   "metadata": {
    "colab": {
     "base_uri": "https://localhost:8080/"
    },
    "executionInfo": {
     "elapsed": 3902,
     "status": "ok",
     "timestamp": 1735826190571,
     "user": {
      "displayName": "Hangsik Shin",
      "userId": "04632555686962088332"
     },
     "user_tz": -540
    },
    "id": "mHj-SnWQ19gp",
    "outputId": "11f8ae55-45d9-4571-8bea-a6c53865d9ef",
    "tags": []
   },
   "outputs": [
    {
     "name": "stdout",
     "output_type": "stream",
     "text": [
      "No changes made to gs://mlops-0221/\n",
      "No changes made to gs://mlops-0221/\n"
     ]
    }
   ],
   "source": [
    "! gsutil iam ch serviceAccount:{SERVICE_ACCOUNT}:roles/storage.objectCreator $BUCKET_URI\n",
    "! gsutil iam ch serviceAccount:{SERVICE_ACCOUNT}:roles/storage.objectViewer $BUCKET_URI\n",
    "! gsutil iam ch serviceAccount:{SERVICE_ACCOUNT}:roles/storage.objectViewerroles/logging.logWriter"
   ]
  },
  {
   "cell_type": "markdown",
   "metadata": {
    "id": "aip_constants:endpoint"
   },
   "source": [
    "### Define constants"
   ]
  },
  {
   "cell_type": "code",
   "execution_count": 76,
   "metadata": {
    "id": "TnO8gVBb2Ou4",
    "tags": []
   },
   "outputs": [],
   "source": [
    "# API service endpoint\n",
    "API_ENDPOINT = f\"{LOCATION}-aiplatform.googleapis.com\"\n",
    "# Pipelne root dir\n",
    "PIPELINE_ROOT = f\"{BUCKET_URI}/pipeline/translate\""
   ]
  },
  {
   "cell_type": "markdown",
   "metadata": {
    "id": "define_component:hello_world"
   },
   "source": [
    "## Define Python function-based pipeline components"
   ]
  },
  {
   "cell_type": "markdown",
   "metadata": {
    "id": "2mqTX_mN2tJ4"
   },
   "source": [
    "#### Define get_input component"
   ]
  },
  {
   "cell_type": "code",
   "execution_count": 77,
   "metadata": {
    "id": "GjJhJUID2Ou6",
    "tags": []
   },
   "outputs": [],
   "source": [
    "@component(base_image=\"python:3.10\")\n",
    "def get_input(text: str) -> str:\n",
    "    \n",
    "    print(f\"### input: {text}\")\n",
    "    \n",
    "    return text\n",
    "\n",
    "compiler.Compiler().compile(get_input, \"get_input.yaml\")\n",
    "\n",
    "# You can load from yaml file in the pipeline. \n",
    "# loaded_component = components.load_component_from_file('./get_input.yaml')"
   ]
  },
  {
   "cell_type": "markdown",
   "metadata": {
    "id": "define_component:two_outputs"
   },
   "source": [
    "### Define *translation* component"
   ]
  },
  {
   "cell_type": "code",
   "execution_count": 78,
   "metadata": {
    "id": "U4Yv33su2Ou6",
    "tags": []
   },
   "outputs": [],
   "source": [
    "@component(base_image=\"python:3.10\",\n",
    "           packages_to_install=[\"google-cloud-translate\"])\n",
    "def translate(\n",
    "    text: str,\n",
    "    project:str,\n",
    "\n",
    ") -> NamedTuple(\n",
    "    \"Outputs\",\n",
    "    [\n",
    "        (\"output_1\", str),\n",
    "        (\"output_2\", str),\n",
    "    ],\n",
    "):\n",
    "\n",
    "    from google.cloud import translate_v3\n",
    "\n",
    "    client = translate_v3.TranslationServiceClient()\n",
    "    parent = f\"projects/{project}/locations/global\"\n",
    "    \n",
    "     # Call translation api\n",
    "    response_en = client.translate_text(\n",
    "        contents=[text],\n",
    "        source_language_code=\"ko-KR\",\n",
    "        target_language_code=\"en\",\n",
    "        parent=parent,\n",
    "        mime_type=\"text/plain\",\n",
    "    )\n",
    "\n",
    "    # Call translation api\n",
    "    response_ja = client.translate_text(\n",
    "        contents=[text],\n",
    "        source_language_code=\"ko\",\n",
    "        target_language_code=\"ja\",\n",
    "        parent=parent,\n",
    "        mime_type=\"text/plain\",\n",
    "    )\n",
    "\n",
    "    o1 = f\"translation 1: {response_en.translations[0].translated_text}\"\n",
    "    o2 = f\"translation 2: {response_ja.translations[0].translated_text}\"\n",
    "\n",
    "    print(f\"### output 1: {o1}; output 2: {o2}\")\n",
    "\n",
    "    return (o1, o2)\n",
    "\n",
    "compiler.Compiler().compile(translate, \"translate.yaml\")\n"
   ]
  },
  {
   "cell_type": "markdown",
   "metadata": {
    "id": "define_component:consumer"
   },
   "source": [
    "### Define *collect* component"
   ]
  },
  {
   "cell_type": "code",
   "execution_count": 79,
   "metadata": {
    "id": "bu8XvOj82Ou6"
   },
   "outputs": [],
   "source": [
    "@component(base_image=\"python:3.10\")\n",
    "\n",
    "def collect(original: str, tran_output_1: str, tran_output_2: str) -> str:\n",
    "    \n",
    "    import logging\n",
    "    \n",
    "    logger = logging.getLogger()\n",
    "    output = f\"original: {original}; translation_1: {tran_output_1}; translation_2: {tran_output_2}\"\n",
    "\n",
    "    logger.info(f\"### original: {original}\")\n",
    "    logger.info(f\"### tran_output_1: {tran_output_1}\")\n",
    "    logger.info(f\"### translation_2: {tran_output_2}\")\n",
    "    \n",
    "    return output\n",
    "\n",
    "compiler.Compiler().compile(collect, \"collect.yaml\")\n"
   ]
  },
  {
   "cell_type": "markdown",
   "metadata": {
    "id": "define_pipeline:intro"
   },
   "source": [
    "### Define a pipeline that uses the components"
   ]
  },
  {
   "cell_type": "code",
   "execution_count": 80,
   "metadata": {
    "id": "CV5dRAeJ2Ou7"
   },
   "outputs": [],
   "source": [
    "@dsl.pipeline(\n",
    "    name=\"translation-pipeline\",\n",
    "    description=\"pipeline to translate and collect\",\n",
    "    pipeline_root=PIPELINE_ROOT,\n",
    ")\n",
    "\n",
    "def translation_pipeline(text: str,\n",
    "                         project: str,):\n",
    "    \n",
    "    input_text = get_input(text=text)\n",
    "    translated_texts = translate(text=input_text.output, project=project)\n",
    "    consumer_task = collect(original= input_text.output,\n",
    "                              tran_output_1 = translated_texts.outputs[\"output_1\"],\n",
    "                              tran_output_2 = translated_texts.outputs[\"output_2\"],)"
   ]
  },
  {
   "cell_type": "markdown",
   "metadata": {
    "id": "compile_pipeline"
   },
   "source": [
    "## Compile the pipeline"
   ]
  },
  {
   "cell_type": "code",
   "execution_count": 81,
   "metadata": {
    "id": "VP_JJ9Oe2Ou7"
   },
   "outputs": [],
   "source": [
    "compiler.Compiler().compile(pipeline_func=translation_pipeline, package_path=\"translation_pipeline.json\")"
   ]
  },
  {
   "cell_type": "markdown",
   "metadata": {
    "id": "run_pipeline:intro"
   },
   "source": [
    "## Run the pipeline"
   ]
  },
  {
   "cell_type": "markdown",
   "metadata": {
    "id": "YYo5mO0N_L5r"
   },
   "source": [
    "### Run a pipeline"
   ]
  },
  {
   "cell_type": "code",
   "execution_count": null,
   "metadata": {
    "colab": {
     "base_uri": "https://localhost:8080/"
    },
    "executionInfo": {
     "elapsed": 120750,
     "status": "ok",
     "timestamp": 1735826311449,
     "user": {
      "displayName": "Hangsik Shin",
      "userId": "04632555686962088332"
     },
     "user_tz": -540
    },
    "id": "sjxaBix_2Ou7",
    "outputId": "4f856725-33df-4a76-d63b-2ecf88f0ed62"
   },
   "outputs": [
    {
     "name": "stdout",
     "output_type": "stream",
     "text": [
      "Creating PipelineJob\n",
      "PipelineJob created. Resource name: projects/721521243942/locations/us-central1/pipelineJobs/translation-pipeline-20250221055257\n",
      "To use this PipelineJob in another session:\n",
      "pipeline_job = aiplatform.PipelineJob.get('projects/721521243942/locations/us-central1/pipelineJobs/translation-pipeline-20250221055257')\n",
      "View Pipeline Job:\n",
      "https://console.cloud.google.com/vertex-ai/locations/us-central1/pipelines/runs/translation-pipeline-20250221055257?project=721521243942\n",
      "PipelineJob projects/721521243942/locations/us-central1/pipelineJobs/translation-pipeline-20250221055257 current state:\n",
      "PipelineState.PIPELINE_STATE_RUNNING\n",
      "PipelineJob projects/721521243942/locations/us-central1/pipelineJobs/translation-pipeline-20250221055257 current state:\n",
      "PipelineState.PIPELINE_STATE_RUNNING\n",
      "PipelineJob projects/721521243942/locations/us-central1/pipelineJobs/translation-pipeline-20250221055257 current state:\n",
      "PipelineState.PIPELINE_STATE_RUNNING\n",
      "PipelineJob projects/721521243942/locations/us-central1/pipelineJobs/translation-pipeline-20250221055257 current state:\n",
      "PipelineState.PIPELINE_STATE_RUNNING\n"
     ]
    }
   ],
   "source": [
    "\n",
    "text =\"머신러닝에서 파이프라인을 만들기 위한 방법들이 무엇이 있나요 ?\"\n",
    "\n",
    "job = aiplatform.PipelineJob(\n",
    "\n",
    "    display_name=\"translation_pipeline\",\n",
    "    template_path=\"translation_pipeline.json\",\n",
    "    parameter_values = {\"text\": text,\n",
    "                        \"project\": PROJECT_ID},\n",
    "    pipeline_root=PIPELINE_ROOT,\n",
    "\n",
    ")\n",
    "\n",
    "job.run(service_account = SERVICE_ACCOUNT)"
   ]
  },
  {
   "cell_type": "markdown",
   "metadata": {
    "id": "GgmRQsRV_HOA"
   },
   "source": [
    "### Enable_caching"
   ]
  },
  {
   "cell_type": "code",
   "execution_count": null,
   "metadata": {
    "colab": {
     "base_uri": "https://localhost:8080/"
    },
    "executionInfo": {
     "elapsed": 5880,
     "status": "ok",
     "timestamp": 1735826317336,
     "user": {
      "displayName": "Hangsik Shin",
      "userId": "04632555686962088332"
     },
     "user_tz": -540
    },
    "id": "MsFFevnc9fPe",
    "outputId": "c113ff56-2d0b-4238-ef5e-e19c2c583a84"
   },
   "outputs": [],
   "source": [
    "text =\"머신러닝에서 파이프라인을 만들기 위한 방법들이 무엇이 있나요 ?\"\n",
    "\n",
    "job = aiplatform.PipelineJob(\n",
    "\n",
    "    display_name=\"translation_pipeline\",\n",
    "    template_path=\"translation_pipeline.json\",\n",
    "    parameter_values = {\"text\": text,\n",
    "                        \"project\": PROJECT_ID},\n",
    "    pipeline_root=PIPELINE_ROOT,\n",
    "    enable_caching = True\n",
    "\n",
    ")\n",
    "\n",
    "job.run(service_account = SERVICE_ACCOUNT)"
   ]
  },
  {
   "cell_type": "code",
   "execution_count": null,
   "metadata": {},
   "outputs": [],
   "source": []
  }
 ],
 "metadata": {
  "colab": {
   "provenance": [],
   "toc_visible": true
  },
  "environment": {
   "kernel": "conda-base-py",
   "name": "workbench-notebooks.m128",
   "type": "gcloud",
   "uri": "us-docker.pkg.dev/deeplearning-platform-release/gcr.io/workbench-notebooks:m128"
  },
  "kernelspec": {
   "display_name": "Python 3 (ipykernel)",
   "language": "python",
   "name": "conda-base-py"
  },
  "language_info": {
   "codemirror_mode": {
    "name": "ipython",
    "version": 3
   },
   "file_extension": ".py",
   "mimetype": "text/x-python",
   "name": "python",
   "nbconvert_exporter": "python",
   "pygments_lexer": "ipython3",
   "version": "3.10.16"
  }
 },
 "nbformat": 4,
 "nbformat_minor": 4
}
